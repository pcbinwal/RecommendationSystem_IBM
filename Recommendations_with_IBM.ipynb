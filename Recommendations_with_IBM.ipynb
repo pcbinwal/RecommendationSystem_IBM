{
 "cells": [
  {
   "cell_type": "markdown",
   "metadata": {},
   "source": [
    "# Recommendation System Project: IBM Community\n",
    "\n",
    "In this notebook, recommendation skills has been put into practice to use on real data from the IBM Watson Studio platform. \n",
    "\n",
    "The table of contents, lists the portions in this notebook where I have built a number of different methods for making recommendations that can be used for different situations. \n",
    "\n",
    "\n",
    "#### Table of Contents\n",
    "\n",
    "I. [Exploratory Data Analysis](#Exploratory-Data-Analysis)<br>\n",
    "II. [Rank Based Recommendations](#Rank-Based-Recs)<br>\n",
    "III. [User-User Based Collaborative Filtering](#User-User-Recs)<br>\n",
    "IV. [Content Based Recommendations](#Content-Recs)<br>\n",
    "V. [Matrix Factorization](#Matrix-Fact)<br>\n",
    "VI. [Extras & Concluding](#conclusions)\n",
    "\n",
    "##### Proceeding with imports and data load and data explainations."
   ]
  },
  {
   "cell_type": "code",
   "execution_count": 2,
   "metadata": {
    "execution": {
     "iopub.execute_input": "2025-08-29T20:10:57.608725Z",
     "iopub.status.busy": "2025-08-29T20:10:57.608376Z",
     "iopub.status.idle": "2025-08-29T20:10:58.395178Z",
     "shell.execute_reply": "2025-08-29T20:10:58.394625Z"
    }
   },
   "outputs": [
    {
     "data": {
      "text/html": [
       "<div>\n",
       "<style scoped>\n",
       "    .dataframe tbody tr th:only-of-type {\n",
       "        vertical-align: middle;\n",
       "    }\n",
       "\n",
       "    .dataframe tbody tr th {\n",
       "        vertical-align: top;\n",
       "    }\n",
       "\n",
       "    .dataframe thead th {\n",
       "        text-align: right;\n",
       "    }\n",
       "</style>\n",
       "<table border=\"1\" class=\"dataframe\">\n",
       "  <thead>\n",
       "    <tr style=\"text-align: right;\">\n",
       "      <th></th>\n",
       "      <th>Unnamed: 0</th>\n",
       "      <th>article_id</th>\n",
       "      <th>title</th>\n",
       "      <th>email</th>\n",
       "    </tr>\n",
       "  </thead>\n",
       "  <tbody>\n",
       "    <tr>\n",
       "      <th>0</th>\n",
       "      <td>0</td>\n",
       "      <td>1430</td>\n",
       "      <td>using pixiedust for fast, flexible, and easier...</td>\n",
       "      <td>ef5f11f77ba020cd36e1105a00ab868bbdbf7fe7</td>\n",
       "    </tr>\n",
       "    <tr>\n",
       "      <th>1</th>\n",
       "      <td>1</td>\n",
       "      <td>1314</td>\n",
       "      <td>healthcare python streaming application demo</td>\n",
       "      <td>083cbdfa93c8444beaa4c5f5e0f5f9198e4f9e0b</td>\n",
       "    </tr>\n",
       "    <tr>\n",
       "      <th>2</th>\n",
       "      <td>2</td>\n",
       "      <td>1429</td>\n",
       "      <td>use deep learning for image classification</td>\n",
       "      <td>b96a4f2e92d8572034b1e9b28f9ac673765cd074</td>\n",
       "    </tr>\n",
       "    <tr>\n",
       "      <th>3</th>\n",
       "      <td>3</td>\n",
       "      <td>1338</td>\n",
       "      <td>ml optimization using cognitive assistant</td>\n",
       "      <td>06485706b34a5c9bf2a0ecdac41daf7e7654ceb7</td>\n",
       "    </tr>\n",
       "    <tr>\n",
       "      <th>4</th>\n",
       "      <td>4</td>\n",
       "      <td>1276</td>\n",
       "      <td>deploy your python model as a restful api</td>\n",
       "      <td>f01220c46fc92c6e6b161b1849de11faacd7ccb2</td>\n",
       "    </tr>\n",
       "  </tbody>\n",
       "</table>\n",
       "</div>"
      ],
      "text/plain": [
       "   Unnamed: 0  article_id                                              title  \\\n",
       "0           0        1430  using pixiedust for fast, flexible, and easier...   \n",
       "1           1        1314       healthcare python streaming application demo   \n",
       "2           2        1429         use deep learning for image classification   \n",
       "3           3        1338          ml optimization using cognitive assistant   \n",
       "4           4        1276          deploy your python model as a restful api   \n",
       "\n",
       "                                      email  \n",
       "0  ef5f11f77ba020cd36e1105a00ab868bbdbf7fe7  \n",
       "1  083cbdfa93c8444beaa4c5f5e0f5f9198e4f9e0b  \n",
       "2  b96a4f2e92d8572034b1e9b28f9ac673765cd074  \n",
       "3  06485706b34a5c9bf2a0ecdac41daf7e7654ceb7  \n",
       "4  f01220c46fc92c6e6b161b1849de11faacd7ccb2  "
      ]
     },
     "metadata": {},
     "output_type": "display_data"
    },
    {
     "name": "stdout",
     "output_type": "stream",
     "text": [
      "<class 'pandas.core.frame.DataFrame'>\n",
      "RangeIndex: 45993 entries, 0 to 45992\n",
      "Data columns (total 4 columns):\n",
      " #   Column      Non-Null Count  Dtype \n",
      "---  ------      --------------  ----- \n",
      " 0   Unnamed: 0  45993 non-null  int64 \n",
      " 1   article_id  45993 non-null  int64 \n",
      " 2   title       45993 non-null  object\n",
      " 3   email       45976 non-null  object\n",
      "dtypes: int64(2), object(2)\n",
      "memory usage: 1.4+ MB\n"
     ]
    },
    {
     "data": {
      "text/plain": [
       "None"
      ]
     },
     "metadata": {},
     "output_type": "display_data"
    }
   ],
   "source": [
    "import pandas as pd\n",
    "import numpy as np\n",
    "import matplotlib.pyplot as plt\n",
    "import project_tests as t\n",
    "# Setting this flag to execute Experimental Cells in the notebook\n",
    "# You can set it to False to disable the Experimental Cells\n",
    "# This flag is not used in the actual project code.\n",
    "# It is only used to control the execution of Experimental Cells in the notebook.\n",
    "# You can ignore it.\n",
    "exp=True\n",
    "\n",
    "df = pd.read_csv(\n",
    "    'data/user-item-interactions.csv', \n",
    "    dtype={'article_id': int, 'title': str, 'email': str}\n",
    ")\n",
    "# \n",
    "# display(df[\"Unnamed: 0\"].value_counts())\n",
    "# Show df to get an idea of the data\n",
    "display(df.head())\n",
    "display(df.info())"
   ]
  },
  {
   "cell_type": "markdown",
   "metadata": {},
   "source": [
    "#### Notes\n",
    "- The data file provide information about comment titles of various users (identified by an encripted email) for a given article. Data has four fields    \n",
    "    - \"Unnamed: 0\": This field is the index for each row.  \n",
    "    - \"article_id\": Numeric field contains the ID of the article for which a user has commented. \n",
    "    - \"title\": The title of the comment \n",
    "    - \"email\": Encrypted email of the use who has commented for the given article.   "
   ]
  },
  {
   "cell_type": "markdown",
   "metadata": {},
   "source": [
    "## <a class=\"anchor\" id=\"Exploratory-Data-Analysis\">Part I : Exploratory Data Analysis</a>\n",
    "\n",
    "##### Questions and actions\n",
    "`1.` Check if there are any missing values? If yes, which field and what is the count of missing values.  \n",
    "Action: For missing values in `email`, assign the same id value `\"unknown_user\"`."
   ]
  },
  {
   "cell_type": "code",
   "execution_count": 3,
   "metadata": {
    "execution": {
     "iopub.execute_input": "2025-08-29T20:10:58.428946Z",
     "iopub.status.busy": "2025-08-29T20:10:58.428830Z",
     "iopub.status.idle": "2025-08-29T20:10:58.433879Z",
     "shell.execute_reply": "2025-08-29T20:10:58.433524Z"
    }
   },
   "outputs": [
    {
     "name": "stdout",
     "output_type": "stream",
     "text": [
      "Field 'email' have total null values = 17\n"
     ]
    }
   ],
   "source": [
    "nulls = df.isna().sum()[df.isna().sum() > 0]\n",
    "print(f\"Field '{nulls.index[0]}' have total null values = {nulls.iloc[0]}\")"
   ]
  },
  {
   "cell_type": "code",
   "execution_count": 4,
   "metadata": {
    "execution": {
     "iopub.execute_input": "2025-08-29T20:10:58.435403Z",
     "iopub.status.busy": "2025-08-29T20:10:58.435295Z",
     "iopub.status.idle": "2025-08-29T20:10:58.437269Z",
     "shell.execute_reply": "2025-08-29T20:10:58.436913Z"
    }
   },
   "outputs": [
    {
     "name": "stdout",
     "output_type": "stream",
     "text": [
      "Total null values filled for 'email' = 17\n"
     ]
    }
   ],
   "source": [
    "# Some interactions do not have a user associated with it, assume the same user.\n",
    "# Fill email NaNs with \"unknown_user\"\n",
    "df.fillna({\"email\":\"unknown_user\"}, inplace=True)\n",
    "print(f\"Total null values filled for 'email' = {df.email.value_counts().filter(like=\"unknown_user\").iloc[0]}\")"
   ]
  },
  {
   "cell_type": "code",
   "execution_count": 5,
   "metadata": {
    "execution": {
     "iopub.execute_input": "2025-08-29T20:10:58.458194Z",
     "iopub.status.busy": "2025-08-29T20:10:58.458084Z",
     "iopub.status.idle": "2025-08-29T20:10:58.462573Z",
     "shell.execute_reply": "2025-08-29T20:10:58.462118Z"
    }
   },
   "outputs": [
    {
     "data": {
      "text/html": [
       "<div>\n",
       "<style scoped>\n",
       "    .dataframe tbody tr th:only-of-type {\n",
       "        vertical-align: middle;\n",
       "    }\n",
       "\n",
       "    .dataframe tbody tr th {\n",
       "        vertical-align: top;\n",
       "    }\n",
       "\n",
       "    .dataframe thead th {\n",
       "        text-align: right;\n",
       "    }\n",
       "</style>\n",
       "<table border=\"1\" class=\"dataframe\">\n",
       "  <thead>\n",
       "    <tr style=\"text-align: right;\">\n",
       "      <th></th>\n",
       "      <th>Unnamed: 0</th>\n",
       "      <th>article_id</th>\n",
       "      <th>title</th>\n",
       "      <th>email</th>\n",
       "    </tr>\n",
       "  </thead>\n",
       "  <tbody>\n",
       "  </tbody>\n",
       "</table>\n",
       "</div>"
      ],
      "text/plain": [
       "Empty DataFrame\n",
       "Columns: [Unnamed: 0, article_id, title, email]\n",
       "Index: []"
      ]
     },
     "execution_count": 5,
     "metadata": {},
     "output_type": "execute_result"
    }
   ],
   "source": [
    "# Check if no more NaNs \n",
    "df[df.email.isna()]"
   ]
  },
  {
   "cell_type": "markdown",
   "metadata": {},
   "source": [
    "`2.` What is the distribution of how many articles a user interacts with in the dataset?  Provide a visual and descriptive statistics to assist with giving a look at the number of times each user interacts with an article."
   ]
  },
  {
   "cell_type": "code",
   "execution_count": 6,
   "metadata": {
    "execution": {
     "iopub.execute_input": "2025-08-29T20:10:58.463840Z",
     "iopub.status.busy": "2025-08-29T20:10:58.463722Z",
     "iopub.status.idle": "2025-08-29T20:10:58.470636Z",
     "shell.execute_reply": "2025-08-29T20:10:58.470223Z"
    }
   },
   "outputs": [
    {
     "name": "stdout",
     "output_type": "stream",
     "text": [
      "Descriptive statistics of user-article interactions:\n",
      "\t50% of individuals have 3.00 or fewer interactions.\n",
      "\tUser-Article interactions: Max by any user is: 364.00\n",
      "\tUser-Article interactions: Mean and Standard Deviations are: 8.93 and 16.80 respectively\n",
      "\tThe number of users that interact with articles is 5149\n",
      "\tThe number of unique articles that have been interacted with is: 714\n",
      "\tThe total number of user-article interactions is: 45993\n"
     ]
    }
   ],
   "source": [
    "# What are the descriptive statistics of the number of articles a user interacts with?\n",
    "user_interaction = df.groupby('email')['article_id'].count().sort_values(ascending=False)\n",
    "UInter = user_interaction.describe().apply(lambda x: format(x, '0.2f'))\n",
    "UInter\n",
    "print(\"Descriptive statistics of user-article interactions:\")\n",
    "print(f\"\\t50% of individuals have {UInter['50%']} or fewer interactions.\")\n",
    "print(f\"\\tUser-Article interactions: Max by any user is: {UInter['max']}\")\n",
    "print(f\"\\tUser-Article interactions: Mean and Standard Deviations are: {UInter['mean']} and {UInter['std']} respectively\")\n",
    "print(f\"\\tThe number of users that interact with articles is {user_interaction.shape[0]}\")\n",
    "print(f\"\\tThe number of unique articles that have been interacted with is: {df['article_id'].nunique()}\")\n",
    "print(f\"\\tThe total number of user-article interactions is: {df.shape[0]}\")   "
   ]
  },
  {
   "cell_type": "code",
   "execution_count": 7,
   "metadata": {
    "execution": {
     "iopub.execute_input": "2025-08-29T20:10:58.471950Z",
     "iopub.status.busy": "2025-08-29T20:10:58.471836Z",
     "iopub.status.idle": "2025-08-29T20:10:58.551267Z",
     "shell.execute_reply": "2025-08-29T20:10:58.550825Z"
    }
   },
   "outputs": [
    {
     "name": "stdout",
     "output_type": "stream",
     "text": [
      "bins:[  1.   13.1  25.2  37.3  49.4  61.5  73.6  85.7  97.8 109.9 122.  134.1\n",
      " 146.2 158.3 170.4 182.5 194.6 206.7 218.8 230.9 243.  255.1 267.2 279.3\n",
      " 291.4 303.5 315.6 327.7 339.8 351.9 364. ]\n"
     ]
    },
    {
     "data": {
      "image/png": "[encoded data removed]",
      "text/plain": [
       "<Figure size 800x600 with 1 Axes>"
      ]
     },
     "metadata": {},
     "output_type": "display_data"
    }
   ],
   "source": [
    "# Create a plot of the number of articles read by each user\n",
    "plt.figure(figsize=(8,6))\n",
    "# user_interaction.plot(kind='hist')\n",
    "values, bins, bars = plt.hist(user_interaction, edgecolor='blue', color='lightblue', bins=30)\n",
    "print(f\"bins:{bins}\")\n",
    "plt.xlabel('number of articles')\n",
    "plt.ylabel('number of users')\n",
    "plt.title('Number of Users Reading Articles')\n",
    "plt.bar_label(bars, fontsize=8, color='green')\n",
    "plt.margins(x=0.01, y=0.1)\n",
    "plt.show()"
   ]
  },
  {
   "cell_type": "code",
   "execution_count": 8,
   "metadata": {
    "execution": {
     "iopub.execute_input": "2025-08-29T20:10:58.552623Z",
     "iopub.status.busy": "2025-08-29T20:10:58.552495Z",
     "iopub.status.idle": "2025-08-29T20:10:58.556238Z",
     "shell.execute_reply": "2025-08-29T20:10:58.555834Z"
    }
   },
   "outputs": [
    {
     "name": "stdout",
     "output_type": "stream",
     "text": [
      "Descriptive statistics of article-user interactions:\n",
      "\t50% of articles were interacted with 25.00 or fewer times.\n",
      "\tArticle interactions: Max for an article is: 937.00\n",
      "\tArticle interactions: Mean and Standard Deviations are: 64.42 and 109.18 respectively\n",
      "\tThe number of unique articles that have been interacted with is: 714\n",
      "\tThe total number of user-article interactions is: 45993\n"
     ]
    }
   ],
   "source": [
    "article_interaction=df.groupby('article_id')['email'].count()\n",
    "AInter = article_interaction.describe().apply(lambda x: format(x, '0.2f'))\n",
    "AInter\n",
    "print(\"Descriptive statistics of article-user interactions:\")\n",
    "print(f\"\\t50% of articles were interacted with {AInter['50%']} or fewer times.\")\n",
    "print(f\"\\tArticle interactions: Max for an article is: {AInter['max']}\")\n",
    "print(f\"\\tArticle interactions: Mean and Standard Deviations are: {AInter['mean']} and {AInter['std']} respectively\")\n",
    "print(f\"\\tThe number of unique articles that have been interacted with is: {df['article_id'].nunique()}\")\n",
    "print(f\"\\tThe total number of user-article interactions is: {df.shape[0]}\")   "
   ]
  },
  {
   "cell_type": "code",
   "execution_count": 9,
   "metadata": {
    "execution": {
     "iopub.execute_input": "2025-08-29T20:10:58.557459Z",
     "iopub.status.busy": "2025-08-29T20:10:58.557341Z",
     "iopub.status.idle": "2025-08-29T20:10:58.612626Z",
     "shell.execute_reply": "2025-08-29T20:10:58.612140Z"
    }
   },
   "outputs": [
    {
     "data": {
      "image/png": "[encoded data removed]",
      "text/plain": [
       "<Figure size 800x600 with 1 Axes>"
      ]
     },
     "metadata": {},
     "output_type": "display_data"
    }
   ],
   "source": [
    "# Create a plot of the number of times each article was read\n",
    "plt.figure(figsize=(8,6))\n",
    "# article_interaction.plot(kind='hist')\n",
    "values, bins, bars = plt.hist(article_interaction, edgecolor='blue', color='lightblue', bins=30)\n",
    "plt.xlabel('number of users')\n",
    "plt.ylabel('number of articles')\n",
    "plt.title('Distribution of Article Usage')\n",
    "plt.bar_label(bars, fontsize=8, color='green')\n",
    "plt.margins(x=0.01, y=0.1)\n",
    "\n",
    "plt.show()"
   ]
  },
  {
   "cell_type": "code",
   "execution_count": 10,
   "metadata": {
    "execution": {
     "iopub.execute_input": "2025-08-29T20:10:58.614464Z",
     "iopub.status.busy": "2025-08-29T20:10:58.614333Z",
     "iopub.status.idle": "2025-08-29T20:10:58.624914Z",
     "shell.execute_reply": "2025-08-29T20:10:58.624463Z"
    }
   },
   "outputs": [
    {
     "name": "stdout",
     "output_type": "stream",
     "text": [
      "3.0 364.0\n"
     ]
    }
   ],
   "source": [
    "# Fill in the median and maximum number of user_article interactions below\n",
    "\n",
    "median_val = float(UInter[\"50%\"]) # 50% of individuals interact with ____ number of articles or fewer.\n",
    "max_views_by_user =  float(UInter[\"max\"])# The maximum number of user-article interactions by any 1 user is ______.\n",
    "print(median_val,max_views_by_user)"
   ]
  },
  {
   "cell_type": "markdown",
   "metadata": {},
   "source": [
    "`3.` Use the cells below to find:\n",
    "\n",
    "**a.** The number of unique articles that have an interaction with a user.  \n",
    "**b.** The number of unique articles in the dataset (whether they have any interactions or not).<br>\n",
    "**c.** The number of unique users in the dataset. (excluding null values) <br>\n",
    "**d.** The number of user-article interactions in the dataset."
   ]
  },
  {
   "cell_type": "code",
   "execution_count": 11,
   "metadata": {
    "execution": {
     "iopub.execute_input": "2025-08-29T20:10:58.626516Z",
     "iopub.status.busy": "2025-08-29T20:10:58.626398Z",
     "iopub.status.idle": "2025-08-29T20:10:58.634822Z",
     "shell.execute_reply": "2025-08-29T20:10:58.634386Z"
    }
   },
   "outputs": [
    {
     "data": {
      "text/plain": [
       "(714, 714, 5149, 45993)"
      ]
     },
     "execution_count": 11,
     "metadata": {},
     "output_type": "execute_result"
    }
   ],
   "source": [
    "unique_articles =  df[df.email != \"unknown_user\"].article_id.nunique()# The number of unique articles that have at least one interaction\n",
    "total_articles = df.article_id.nunique() # The number of unique articles on the IBM platform\n",
    "unique_users =  df.email.nunique() # The number of unique users\n",
    "user_article_interactions =  df.shape[0]# The number of user-article interactions\n",
    "unique_articles,total_articles,unique_users, user_article_interactions"
   ]
  },
  {
   "cell_type": "markdown",
   "metadata": {},
   "source": [
    "`4.` Use the cells below to find the most viewed **article_id**, as well as how often it was viewed.  After talking to the company leaders, the `email_mapper` function was deemed a reasonable way to map users to ids.  There were a small number of null values, and it was found that all of these null values likely belonged to a single user (which is how they are stored using the function below)."
   ]
  },
  {
   "cell_type": "code",
   "execution_count": 12,
   "metadata": {
    "execution": {
     "iopub.execute_input": "2025-08-29T20:10:58.636364Z",
     "iopub.status.busy": "2025-08-29T20:10:58.636246Z",
     "iopub.status.idle": "2025-08-29T20:10:58.640032Z",
     "shell.execute_reply": "2025-08-29T20:10:58.639589Z"
    }
   },
   "outputs": [
    {
     "data": {
      "text/plain": [
       "(1429.0, 937)"
      ]
     },
     "execution_count": 12,
     "metadata": {},
     "output_type": "execute_result"
    }
   ],
   "source": [
    "# The most viewed article in the dataset as a string with one value following the decimal point (e.g. '1024.0', '523.0', etc.)\n",
    "most_viewed_article_id =  float(df.article_id.value_counts().index[0])\n",
    "# The most viewed article in the dataset was viewed how many times?\n",
    "max_views =  df.article_id.value_counts().iloc[0] \n",
    "most_viewed_article_id, int(max_views)"
   ]
  },
  {
   "cell_type": "code",
   "execution_count": 13,
   "metadata": {
    "execution": {
     "iopub.execute_input": "2025-08-29T20:10:58.641540Z",
     "iopub.status.busy": "2025-08-29T20:10:58.641391Z",
     "iopub.status.idle": "2025-08-29T20:10:58.656796Z",
     "shell.execute_reply": "2025-08-29T20:10:58.656331Z"
    }
   },
   "outputs": [
    {
     "data": {
      "text/html": [
       "<div>\n",
       "<style scoped>\n",
       "    .dataframe tbody tr th:only-of-type {\n",
       "        vertical-align: middle;\n",
       "    }\n",
       "\n",
       "    .dataframe tbody tr th {\n",
       "        vertical-align: top;\n",
       "    }\n",
       "\n",
       "    .dataframe thead th {\n",
       "        text-align: right;\n",
       "    }\n",
       "</style>\n",
       "<table border=\"1\" class=\"dataframe\">\n",
       "  <thead>\n",
       "    <tr style=\"text-align: right;\">\n",
       "      <th></th>\n",
       "      <th>Unnamed: 0</th>\n",
       "      <th>article_id</th>\n",
       "      <th>title</th>\n",
       "      <th>email</th>\n",
       "      <th>user_id</th>\n",
       "    </tr>\n",
       "  </thead>\n",
       "  <tbody>\n",
       "    <tr>\n",
       "      <th>0</th>\n",
       "      <td>0</td>\n",
       "      <td>1430</td>\n",
       "      <td>using pixiedust for fast, flexible, and easier...</td>\n",
       "      <td>ef5f11f77ba020cd36e1105a00ab868bbdbf7fe7</td>\n",
       "      <td>1</td>\n",
       "    </tr>\n",
       "    <tr>\n",
       "      <th>1</th>\n",
       "      <td>1</td>\n",
       "      <td>1314</td>\n",
       "      <td>healthcare python streaming application demo</td>\n",
       "      <td>083cbdfa93c8444beaa4c5f5e0f5f9198e4f9e0b</td>\n",
       "      <td>2</td>\n",
       "    </tr>\n",
       "    <tr>\n",
       "      <th>2</th>\n",
       "      <td>2</td>\n",
       "      <td>1429</td>\n",
       "      <td>use deep learning for image classification</td>\n",
       "      <td>b96a4f2e92d8572034b1e9b28f9ac673765cd074</td>\n",
       "      <td>3</td>\n",
       "    </tr>\n",
       "    <tr>\n",
       "      <th>3</th>\n",
       "      <td>3</td>\n",
       "      <td>1338</td>\n",
       "      <td>ml optimization using cognitive assistant</td>\n",
       "      <td>06485706b34a5c9bf2a0ecdac41daf7e7654ceb7</td>\n",
       "      <td>4</td>\n",
       "    </tr>\n",
       "    <tr>\n",
       "      <th>4</th>\n",
       "      <td>4</td>\n",
       "      <td>1276</td>\n",
       "      <td>deploy your python model as a restful api</td>\n",
       "      <td>f01220c46fc92c6e6b161b1849de11faacd7ccb2</td>\n",
       "      <td>5</td>\n",
       "    </tr>\n",
       "  </tbody>\n",
       "</table>\n",
       "</div>"
      ],
      "text/plain": [
       "   Unnamed: 0  article_id                                              title  \\\n",
       "0           0        1430  using pixiedust for fast, flexible, and easier...   \n",
       "1           1        1314       healthcare python streaming application demo   \n",
       "2           2        1429         use deep learning for image classification   \n",
       "3           3        1338          ml optimization using cognitive assistant   \n",
       "4           4        1276          deploy your python model as a restful api   \n",
       "\n",
       "                                      email  user_id  \n",
       "0  ef5f11f77ba020cd36e1105a00ab868bbdbf7fe7        1  \n",
       "1  083cbdfa93c8444beaa4c5f5e0f5f9198e4f9e0b        2  \n",
       "2  b96a4f2e92d8572034b1e9b28f9ac673765cd074        3  \n",
       "3  06485706b34a5c9bf2a0ecdac41daf7e7654ceb7        4  \n",
       "4  f01220c46fc92c6e6b161b1849de11faacd7ccb2        5  "
      ]
     },
     "execution_count": 13,
     "metadata": {},
     "output_type": "execute_result"
    }
   ],
   "source": [
    "## No need to change the code here - this will be helpful for later parts of the notebook\n",
    "# Run this cell to map the user email to a user_id column and remove the email column\n",
    "\n",
    "def email_mapper(df=df):\n",
    "    coded_dict = {\n",
    "        email: num \n",
    "        for num, email in enumerate(df['email'].unique(), start=1)\n",
    "    }\n",
    "    return [coded_dict[val] for val in df['email']]\n",
    "\n",
    "df['user_id'] = email_mapper(df)\n",
    "# del df['email']\n",
    "\n",
    "# show header\n",
    "df.head()"
   ]
  },
  {
   "cell_type": "code",
   "execution_count": 14,
   "metadata": {
    "execution": {
     "iopub.execute_input": "2025-08-29T20:10:58.658346Z",
     "iopub.status.busy": "2025-08-29T20:10:58.658224Z",
     "iopub.status.idle": "2025-08-29T20:10:58.660940Z",
     "shell.execute_reply": "2025-08-29T20:10:58.660518Z"
    }
   },
   "outputs": [
    {
     "name": "stdout",
     "output_type": "stream",
     "text": [
      "It looks like you have everything right here! Nice job!\n"
     ]
    }
   ],
   "source": [
    "## If you stored all your results in the variable names above, \n",
    "## you shouldn't need to change anything in this cell\n",
    "\n",
    "sol_1_dict = {\n",
    "    '`50% of individuals have _____ or fewer interactions.`': median_val,\n",
    "    '`The total number of user-article interactions in the dataset is ______.`': user_article_interactions,\n",
    "    '`The maximum number of user-article interactions by any 1 user is ______.`': max_views_by_user,\n",
    "    '`The most viewed article in the dataset was viewed _____ times.`': max_views,\n",
    "    '`The article_id of the most viewed article is ______.`': most_viewed_article_id,\n",
    "    '`The number of unique articles that have at least 1 rating ______.`': unique_articles,\n",
    "    '`The number of unique users in the dataset is ______`': unique_users,\n",
    "    '`The number of unique articles on the IBM platform`': total_articles\n",
    "}\n",
    "\n",
    "# Test your dictionary against the solution\n",
    "t.sol_1_test(sol_1_dict)"
   ]
  },
  {
   "cell_type": "markdown",
   "metadata": {},
   "source": [
    "## <a class=\"anchor\" id=\"Rank-Based-Recs\">Part II: Rank-Based Recommendations</a>\n",
    "\n",
    "In this project, we don't actually have ratings for whether a user liked an article or not.  We only know that a user has interacted with an article. In these cases, the popularity of an article can really only be based on how often an article was interacted with.\n",
    "\n",
    "`1.` Below function returns the **n** top articles ordered with most interactions as the top. \n",
    "\n",
    "`2.` Function tested using the tests defined in the cell down below."
   ]
  },
  {
   "cell_type": "code",
   "execution_count": 15,
   "metadata": {
    "execution": {
     "iopub.execute_input": "2025-08-29T20:10:58.662266Z",
     "iopub.status.busy": "2025-08-29T20:10:58.662161Z",
     "iopub.status.idle": "2025-08-29T20:10:58.666594Z",
     "shell.execute_reply": "2025-08-29T20:10:58.666196Z"
    }
   },
   "outputs": [
    {
     "name": "stdout",
     "output_type": "stream",
     "text": [
      "Top 2 Titles ['use deep learning for image classification', 'insights from new york car accident reports']\n",
      "Top 2 Article IDs [1429, 1330]\n"
     ]
    }
   ],
   "source": [
    "##### Experiment Cell \n",
    "if exp:\n",
    "    n=2;\n",
    "    print(f\"Top {n} Titles {df['title'].value_counts()[:n].index.to_list()}\") \n",
    "    print(f\"Top {n} Article IDs {df['article_id'].value_counts()[:n].index.to_list()}\") "
   ]
  },
  {
   "cell_type": "code",
   "execution_count": 16,
   "metadata": {
    "execution": {
     "iopub.execute_input": "2025-08-29T20:10:58.667809Z",
     "iopub.status.busy": "2025-08-29T20:10:58.667699Z",
     "iopub.status.idle": "2025-08-29T20:10:58.670301Z",
     "shell.execute_reply": "2025-08-29T20:10:58.669892Z"
    }
   },
   "outputs": [],
   "source": [
    "def get_top_articles(n, df=df):\n",
    "    \"\"\"\n",
    "    INPUT:\n",
    "    n - (int) the number of top articles to return\n",
    "    df - (pandas dataframe) df as defined at the top of the notebook \n",
    "    \n",
    "    OUTPUT:\n",
    "    top_articles - (list) A list of the top 'n' article titles \n",
    "    \n",
    "    \"\"\"\n",
    "    top_articles = df['title'].value_counts()[:n].index.to_list()\n",
    "    \n",
    "    return top_articles # Return the top article titles from df\n",
    "\n",
    "def get_top_article_ids(n, df=df):\n",
    "    \"\"\"\n",
    "    INPUT:\n",
    "    n - (int) the number of top articles to return\n",
    "    df - (pandas dataframe) df as defined at the top of the notebook \n",
    "    \n",
    "    OUTPUT:\n",
    "    top_articles - (list) A list of the top 'n' article IDs \n",
    "    \n",
    "    \"\"\"\n",
    "    top_articles = df['article_id'].value_counts()[:n].index.to_list()\n",
    " \n",
    "    return top_articles # Return the top article ids"
   ]
  },
  {
   "cell_type": "code",
   "execution_count": 17,
   "metadata": {
    "execution": {
     "iopub.execute_input": "2025-08-29T20:10:58.671558Z",
     "iopub.status.busy": "2025-08-29T20:10:58.671448Z",
     "iopub.status.idle": "2025-08-29T20:10:58.675586Z",
     "shell.execute_reply": "2025-08-29T20:10:58.675197Z"
    }
   },
   "outputs": [
    {
     "name": "stdout",
     "output_type": "stream",
     "text": [
      "['use deep learning for image classification', 'insights from new york car accident reports', 'visualize car data with brunel', 'use xgboost, scikit-learn & ibm watson machine learning apis', 'predicting churn with the spss random tree algorithm', 'healthcare python streaming application demo', 'finding optimal locations of new store using decision optimization', 'apache spark lab, part 1: basic concepts', 'analyze energy consumption in buildings', 'gosales transactions for logistic regression model']\n",
      "[1429, 1330, 1431, 1427, 1364, 1314, 1293, 1170, 1162, 1304]\n"
     ]
    }
   ],
   "source": [
    "print(get_top_articles(10))\n",
    "print(get_top_article_ids(10))"
   ]
  },
  {
   "cell_type": "code",
   "execution_count": 18,
   "metadata": {
    "execution": {
     "iopub.execute_input": "2025-08-29T20:10:58.676812Z",
     "iopub.status.busy": "2025-08-29T20:10:58.676703Z",
     "iopub.status.idle": "2025-08-29T20:10:58.687668Z",
     "shell.execute_reply": "2025-08-29T20:10:58.687285Z"
    }
   },
   "outputs": [
    {
     "name": "stdout",
     "output_type": "stream",
     "text": [
      "Your top_5 looks like the solution list! Nice job.\n",
      "Your top_10 looks like the solution list! Nice job.\n",
      "Your top_20 looks like the solution list! Nice job.\n"
     ]
    }
   ],
   "source": [
    "# Test your function by returning the top 5, 10, and 20 articles\n",
    "top_5 = get_top_articles(5)\n",
    "top_10 = get_top_articles(10)\n",
    "top_20 = get_top_articles(20)\n",
    "# Test each of your three lists from above\n",
    "t.sol_2_test(get_top_articles)"
   ]
  },
  {
   "cell_type": "markdown",
   "metadata": {},
   "source": [
    "## <a class=\"anchor\" id=\"User-User-Recs\">Part III: User-User Based Collaborative Filtering</a>\n",
    "\n",
    "\n",
    "`1.` Below function is written to reformat the **df** dataframe to be shaped with users as the rows and articles as the columns.  \n",
    "\n",
    "* Each **user** only appear in each **row** once.\n",
    "\n",
    "\n",
    "* Each **article** only show up in one **column**.  \n",
    "\n",
    "\n",
    "* **If a user has interacted with an article, then values is 1 where the user-row meets for that article-column**.  It does not matter how many times a user has interacted with the article, all entries where a user has interacted with an article should be a 1.  \n",
    "\n",
    "\n",
    "* **If a user has not interacted with an item, then place a zero where the user-row meets for that article-column**. \n",
    "\n",
    "Used the tests to make sure the basic structure the matrix matches what is expected by the solution."
   ]
  },
  {
   "cell_type": "code",
   "execution_count": 19,
   "metadata": {
    "execution": {
     "iopub.execute_input": "2025-08-29T20:10:58.688998Z",
     "iopub.status.busy": "2025-08-29T20:10:58.688889Z",
     "iopub.status.idle": "2025-08-29T20:10:58.762564Z",
     "shell.execute_reply": "2025-08-29T20:10:58.762135Z"
    }
   },
   "outputs": [
    {
     "data": {
      "text/html": [
       "<div>\n",
       "<style scoped>\n",
       "    .dataframe tbody tr th:only-of-type {\n",
       "        vertical-align: middle;\n",
       "    }\n",
       "\n",
       "    .dataframe tbody tr th {\n",
       "        vertical-align: top;\n",
       "    }\n",
       "\n",
       "    .dataframe thead th {\n",
       "        text-align: right;\n",
       "    }\n",
       "</style>\n",
       "<table border=\"1\" class=\"dataframe\">\n",
       "  <thead>\n",
       "    <tr style=\"text-align: right;\">\n",
       "      <th>article_id</th>\n",
       "      <th>0</th>\n",
       "      <th>2</th>\n",
       "      <th>4</th>\n",
       "      <th>8</th>\n",
       "      <th>9</th>\n",
       "      <th>12</th>\n",
       "      <th>14</th>\n",
       "      <th>15</th>\n",
       "      <th>16</th>\n",
       "      <th>18</th>\n",
       "      <th>...</th>\n",
       "      <th>1434</th>\n",
       "      <th>1435</th>\n",
       "      <th>1436</th>\n",
       "      <th>1437</th>\n",
       "      <th>1439</th>\n",
       "      <th>1440</th>\n",
       "      <th>1441</th>\n",
       "      <th>1442</th>\n",
       "      <th>1443</th>\n",
       "      <th>1444</th>\n",
       "    </tr>\n",
       "    <tr>\n",
       "      <th>user_id</th>\n",
       "      <th></th>\n",
       "      <th></th>\n",
       "      <th></th>\n",
       "      <th></th>\n",
       "      <th></th>\n",
       "      <th></th>\n",
       "      <th></th>\n",
       "      <th></th>\n",
       "      <th></th>\n",
       "      <th></th>\n",
       "      <th></th>\n",
       "      <th></th>\n",
       "      <th></th>\n",
       "      <th></th>\n",
       "      <th></th>\n",
       "      <th></th>\n",
       "      <th></th>\n",
       "      <th></th>\n",
       "      <th></th>\n",
       "      <th></th>\n",
       "      <th></th>\n",
       "    </tr>\n",
       "  </thead>\n",
       "  <tbody>\n",
       "    <tr>\n",
       "      <th>1</th>\n",
       "      <td>0</td>\n",
       "      <td>0</td>\n",
       "      <td>0</td>\n",
       "      <td>0</td>\n",
       "      <td>0</td>\n",
       "      <td>0</td>\n",
       "      <td>0</td>\n",
       "      <td>0</td>\n",
       "      <td>0</td>\n",
       "      <td>0</td>\n",
       "      <td>...</td>\n",
       "      <td>0</td>\n",
       "      <td>0</td>\n",
       "      <td>1</td>\n",
       "      <td>0</td>\n",
       "      <td>1</td>\n",
       "      <td>0</td>\n",
       "      <td>0</td>\n",
       "      <td>0</td>\n",
       "      <td>0</td>\n",
       "      <td>0</td>\n",
       "    </tr>\n",
       "    <tr>\n",
       "      <th>2</th>\n",
       "      <td>0</td>\n",
       "      <td>0</td>\n",
       "      <td>0</td>\n",
       "      <td>0</td>\n",
       "      <td>0</td>\n",
       "      <td>0</td>\n",
       "      <td>0</td>\n",
       "      <td>0</td>\n",
       "      <td>0</td>\n",
       "      <td>0</td>\n",
       "      <td>...</td>\n",
       "      <td>0</td>\n",
       "      <td>0</td>\n",
       "      <td>0</td>\n",
       "      <td>0</td>\n",
       "      <td>0</td>\n",
       "      <td>0</td>\n",
       "      <td>0</td>\n",
       "      <td>0</td>\n",
       "      <td>0</td>\n",
       "      <td>0</td>\n",
       "    </tr>\n",
       "    <tr>\n",
       "      <th>3</th>\n",
       "      <td>0</td>\n",
       "      <td>0</td>\n",
       "      <td>0</td>\n",
       "      <td>0</td>\n",
       "      <td>0</td>\n",
       "      <td>1</td>\n",
       "      <td>0</td>\n",
       "      <td>0</td>\n",
       "      <td>0</td>\n",
       "      <td>0</td>\n",
       "      <td>...</td>\n",
       "      <td>0</td>\n",
       "      <td>0</td>\n",
       "      <td>1</td>\n",
       "      <td>0</td>\n",
       "      <td>0</td>\n",
       "      <td>0</td>\n",
       "      <td>0</td>\n",
       "      <td>0</td>\n",
       "      <td>0</td>\n",
       "      <td>0</td>\n",
       "    </tr>\n",
       "    <tr>\n",
       "      <th>4</th>\n",
       "      <td>0</td>\n",
       "      <td>0</td>\n",
       "      <td>0</td>\n",
       "      <td>0</td>\n",
       "      <td>0</td>\n",
       "      <td>0</td>\n",
       "      <td>0</td>\n",
       "      <td>0</td>\n",
       "      <td>0</td>\n",
       "      <td>0</td>\n",
       "      <td>...</td>\n",
       "      <td>0</td>\n",
       "      <td>0</td>\n",
       "      <td>0</td>\n",
       "      <td>0</td>\n",
       "      <td>0</td>\n",
       "      <td>0</td>\n",
       "      <td>0</td>\n",
       "      <td>0</td>\n",
       "      <td>0</td>\n",
       "      <td>0</td>\n",
       "    </tr>\n",
       "    <tr>\n",
       "      <th>5</th>\n",
       "      <td>0</td>\n",
       "      <td>0</td>\n",
       "      <td>0</td>\n",
       "      <td>0</td>\n",
       "      <td>0</td>\n",
       "      <td>0</td>\n",
       "      <td>0</td>\n",
       "      <td>0</td>\n",
       "      <td>0</td>\n",
       "      <td>0</td>\n",
       "      <td>...</td>\n",
       "      <td>0</td>\n",
       "      <td>0</td>\n",
       "      <td>0</td>\n",
       "      <td>0</td>\n",
       "      <td>0</td>\n",
       "      <td>0</td>\n",
       "      <td>0</td>\n",
       "      <td>0</td>\n",
       "      <td>0</td>\n",
       "      <td>0</td>\n",
       "    </tr>\n",
       "    <tr>\n",
       "      <th>...</th>\n",
       "      <td>...</td>\n",
       "      <td>...</td>\n",
       "      <td>...</td>\n",
       "      <td>...</td>\n",
       "      <td>...</td>\n",
       "      <td>...</td>\n",
       "      <td>...</td>\n",
       "      <td>...</td>\n",
       "      <td>...</td>\n",
       "      <td>...</td>\n",
       "      <td>...</td>\n",
       "      <td>...</td>\n",
       "      <td>...</td>\n",
       "      <td>...</td>\n",
       "      <td>...</td>\n",
       "      <td>...</td>\n",
       "      <td>...</td>\n",
       "      <td>...</td>\n",
       "      <td>...</td>\n",
       "      <td>...</td>\n",
       "      <td>...</td>\n",
       "    </tr>\n",
       "    <tr>\n",
       "      <th>5145</th>\n",
       "      <td>0</td>\n",
       "      <td>0</td>\n",
       "      <td>0</td>\n",
       "      <td>0</td>\n",
       "      <td>0</td>\n",
       "      <td>0</td>\n",
       "      <td>0</td>\n",
       "      <td>0</td>\n",
       "      <td>0</td>\n",
       "      <td>0</td>\n",
       "      <td>...</td>\n",
       "      <td>0</td>\n",
       "      <td>0</td>\n",
       "      <td>0</td>\n",
       "      <td>0</td>\n",
       "      <td>0</td>\n",
       "      <td>0</td>\n",
       "      <td>0</td>\n",
       "      <td>0</td>\n",
       "      <td>0</td>\n",
       "      <td>0</td>\n",
       "    </tr>\n",
       "    <tr>\n",
       "      <th>5146</th>\n",
       "      <td>0</td>\n",
       "      <td>0</td>\n",
       "      <td>0</td>\n",
       "      <td>0</td>\n",
       "      <td>0</td>\n",
       "      <td>0</td>\n",
       "      <td>0</td>\n",
       "      <td>0</td>\n",
       "      <td>0</td>\n",
       "      <td>0</td>\n",
       "      <td>...</td>\n",
       "      <td>0</td>\n",
       "      <td>0</td>\n",
       "      <td>0</td>\n",
       "      <td>0</td>\n",
       "      <td>0</td>\n",
       "      <td>0</td>\n",
       "      <td>0</td>\n",
       "      <td>0</td>\n",
       "      <td>0</td>\n",
       "      <td>0</td>\n",
       "    </tr>\n",
       "    <tr>\n",
       "      <th>5147</th>\n",
       "      <td>0</td>\n",
       "      <td>0</td>\n",
       "      <td>0</td>\n",
       "      <td>0</td>\n",
       "      <td>0</td>\n",
       "      <td>0</td>\n",
       "      <td>0</td>\n",
       "      <td>0</td>\n",
       "      <td>0</td>\n",
       "      <td>0</td>\n",
       "      <td>...</td>\n",
       "      <td>0</td>\n",
       "      <td>0</td>\n",
       "      <td>0</td>\n",
       "      <td>0</td>\n",
       "      <td>0</td>\n",
       "      <td>0</td>\n",
       "      <td>0</td>\n",
       "      <td>0</td>\n",
       "      <td>0</td>\n",
       "      <td>0</td>\n",
       "    </tr>\n",
       "    <tr>\n",
       "      <th>5148</th>\n",
       "      <td>0</td>\n",
       "      <td>0</td>\n",
       "      <td>0</td>\n",
       "      <td>0</td>\n",
       "      <td>0</td>\n",
       "      <td>0</td>\n",
       "      <td>0</td>\n",
       "      <td>0</td>\n",
       "      <td>0</td>\n",
       "      <td>0</td>\n",
       "      <td>...</td>\n",
       "      <td>0</td>\n",
       "      <td>0</td>\n",
       "      <td>0</td>\n",
       "      <td>0</td>\n",
       "      <td>0</td>\n",
       "      <td>0</td>\n",
       "      <td>0</td>\n",
       "      <td>0</td>\n",
       "      <td>0</td>\n",
       "      <td>0</td>\n",
       "    </tr>\n",
       "    <tr>\n",
       "      <th>5149</th>\n",
       "      <td>0</td>\n",
       "      <td>0</td>\n",
       "      <td>0</td>\n",
       "      <td>0</td>\n",
       "      <td>0</td>\n",
       "      <td>0</td>\n",
       "      <td>0</td>\n",
       "      <td>0</td>\n",
       "      <td>1</td>\n",
       "      <td>0</td>\n",
       "      <td>...</td>\n",
       "      <td>0</td>\n",
       "      <td>0</td>\n",
       "      <td>0</td>\n",
       "      <td>0</td>\n",
       "      <td>0</td>\n",
       "      <td>0</td>\n",
       "      <td>0</td>\n",
       "      <td>0</td>\n",
       "      <td>0</td>\n",
       "      <td>0</td>\n",
       "    </tr>\n",
       "  </tbody>\n",
       "</table>\n",
       "<p>5149 rows × 714 columns</p>\n",
       "</div>"
      ],
      "text/plain": [
       "article_id  0     2     4     8     9     12    14    15    16    18    ...  \\\n",
       "user_id                                                                 ...   \n",
       "1              0     0     0     0     0     0     0     0     0     0  ...   \n",
       "2              0     0     0     0     0     0     0     0     0     0  ...   \n",
       "3              0     0     0     0     0     1     0     0     0     0  ...   \n",
       "4              0     0     0     0     0     0     0     0     0     0  ...   \n",
       "5              0     0     0     0     0     0     0     0     0     0  ...   \n",
       "...          ...   ...   ...   ...   ...   ...   ...   ...   ...   ...  ...   \n",
       "5145           0     0     0     0     0     0     0     0     0     0  ...   \n",
       "5146           0     0     0     0     0     0     0     0     0     0  ...   \n",
       "5147           0     0     0     0     0     0     0     0     0     0  ...   \n",
       "5148           0     0     0     0     0     0     0     0     0     0  ...   \n",
       "5149           0     0     0     0     0     0     0     0     1     0  ...   \n",
       "\n",
       "article_id  1434  1435  1436  1437  1439  1440  1441  1442  1443  1444  \n",
       "user_id                                                                 \n",
       "1              0     0     1     0     1     0     0     0     0     0  \n",
       "2              0     0     0     0     0     0     0     0     0     0  \n",
       "3              0     0     1     0     0     0     0     0     0     0  \n",
       "4              0     0     0     0     0     0     0     0     0     0  \n",
       "5              0     0     0     0     0     0     0     0     0     0  \n",
       "...          ...   ...   ...   ...   ...   ...   ...   ...   ...   ...  \n",
       "5145           0     0     0     0     0     0     0     0     0     0  \n",
       "5146           0     0     0     0     0     0     0     0     0     0  \n",
       "5147           0     0     0     0     0     0     0     0     0     0  \n",
       "5148           0     0     0     0     0     0     0     0     0     0  \n",
       "5149           0     0     0     0     0     0     0     0     0     0  \n",
       "\n",
       "[5149 rows x 714 columns]"
      ]
     },
     "metadata": {},
     "output_type": "display_data"
    }
   ],
   "source": [
    "########## Experiment cell - User-Item Matrix\n",
    "if exp:\n",
    "    # create a new df based on count of articles for each combination of user-article\n",
    "    df_count = df.groupby(['user_id', 'article_id'])[\"title\"].count().reset_index() \n",
    "    # display(df_count)\n",
    "    # # Now pivot the DF to put users on rows and article on columns\n",
    "    user_item = df_count.pivot_table(values='title', index='user_id', columns='article_id', aggfunc=\"count\") \n",
    "    # replace nulls with 0s\n",
    "    user_item.replace(np.nan, 0, inplace=True) \n",
    "    # entries should be a 1 or 0\n",
    "    user_item=user_item.map(lambda x: 1 if x > 0 else int(x)) \n",
    "    display(user_item)"
   ]
  },
  {
   "cell_type": "code",
   "execution_count": 20,
   "metadata": {
    "execution": {
     "iopub.execute_input": "2025-08-29T20:10:58.764041Z",
     "iopub.status.busy": "2025-08-29T20:10:58.763919Z",
     "iopub.status.idle": "2025-08-29T20:10:59.537677Z",
     "shell.execute_reply": "2025-08-29T20:10:59.537145Z"
    }
   },
   "outputs": [
    {
     "data": {
      "text/plain": [
       "(5149, 714)"
      ]
     },
     "metadata": {},
     "output_type": "display_data"
    },
    {
     "data": {
      "text/plain": [
       "article_id\n",
       "1330    467\n",
       "1429    397\n",
       "1364    388\n",
       "dtype: int64"
      ]
     },
     "metadata": {},
     "output_type": "display_data"
    },
    {
     "data": {
      "text/plain": [
       "user_id\n",
       "3782    135\n",
       "23      135\n",
       "49      101\n",
       "dtype: int64"
      ]
     },
     "metadata": {},
     "output_type": "display_data"
    }
   ],
   "source": [
    "# create the user-article matrix with 1's and 0's\n",
    "\n",
    "def create_user_item_matrix(df, fill_value=0):\n",
    "    \"\"\"\n",
    "    INPUT:\n",
    "    df - pandas dataframe with article_id, title, user_id columns\n",
    "    \n",
    "    OUTPUT:\n",
    "    user_item - user item matrix \n",
    "    \n",
    "    Description:\n",
    "    Return a matrix with user ids as rows and article ids on the columns with 1 values where a user interacted with \n",
    "    an article and a 0 otherwise\n",
    "    \"\"\"\n",
    "    # Fill in the function here\n",
    "    #Step 1: Create a DF by grouping  user_id and article ids and counting the number of titles for each combination. \n",
    "    # Using reset index to get a proper dataframe rows.  \n",
    "    data_count = df.groupby(['user_id', 'article_id']).count().reset_index()\n",
    "    #Step 2: Creating a Matrix (Pivot Table) from the count dataframe with sum of title counts as value\n",
    "    user_item = data_count.pivot_table(values='title', index='user_id', columns='article_id',aggfunc=\"sum\")\n",
    "    # The #NAN will be reported for all combinations of user_id and article_id, where there are no interactions\n",
    "    #Step 3: replace #NAN by 0 indicating no interactions. \n",
    "    user_item.replace(np.nan, 0, inplace=True)\n",
    "    #Step 4: Update the martix \n",
    "    # by replacing all values >=1 to 1 indicating one or more interactions has happened, and \n",
    "    # keep rest as zero. Also change the values to Int. \n",
    "    user_item = user_item.map(lambda x: 1 if x>=1 else int(x))\n",
    "    return user_item # return the user_item matrix \n",
    "\n",
    "user_item = create_user_item_matrix(df)\n",
    "display(\n",
    "user_item.shape, \n",
    "user_item.sum(axis=0).sort_values(ascending=False)[:3],\n",
    "user_item.sum(axis=1).sort_values(ascending=False)[:3]\n",
    ")"
   ]
  },
  {
   "cell_type": "code",
   "execution_count": 21,
   "metadata": {
    "execution": {
     "iopub.execute_input": "2025-08-29T20:10:59.539042Z",
     "iopub.status.busy": "2025-08-29T20:10:59.538920Z",
     "iopub.status.idle": "2025-08-29T20:10:59.543847Z",
     "shell.execute_reply": "2025-08-29T20:10:59.543333Z"
    }
   },
   "outputs": [
    {
     "name": "stdout",
     "output_type": "stream",
     "text": [
      "You have passed our quick tests!  Please proceed!\n"
     ]
    }
   ],
   "source": [
    "## Tests: You should just need to run this cell.  Don't change the code.\n",
    "assert user_item.shape[0] == 5149, \"Oops!  The number of users in the user-article matrix doesn't look right.\"\n",
    "assert user_item.shape[1] == 714, \"Oops!  The number of articles in the user-article matrix doesn't look right.\"\n",
    "assert user_item.sum(axis=1)[1] == 36, \"Oops!  The number of articles seen by user 1 doesn't look right.\"\n",
    "print(\"You have passed our quick tests!  Please proceed!\")"
   ]
  },
  {
   "cell_type": "markdown",
   "metadata": {},
   "source": [
    "`2.` The function below takes a user_id and provide an ordered list of the most similar users to that user (from most similar to least similar).  The returned result does not contain the provided user_id, as we know that each user is similar to him/herself.  \n",
    "\n",
    "I have used `cosine_similarity` function from sklearn \n",
    "\n",
    "Used the tests to test the function."
   ]
  },
  {
   "cell_type": "code",
   "execution_count": 22,
   "metadata": {
    "execution": {
     "iopub.execute_input": "2025-08-29T20:10:59.545137Z",
     "iopub.status.busy": "2025-08-29T20:10:59.545020Z",
     "iopub.status.idle": "2025-08-29T20:11:00.320762Z",
     "shell.execute_reply": "2025-08-29T20:11:00.320264Z"
    }
   },
   "outputs": [],
   "source": [
    "# Lets use the cosine_similarity function from sklearn\n",
    "from sklearn.metrics.pairwise import cosine_similarity"
   ]
  },
  {
   "cell_type": "code",
   "execution_count": 23,
   "metadata": {
    "execution": {
     "iopub.execute_input": "2025-08-29T20:11:00.322595Z",
     "iopub.status.busy": "2025-08-29T20:11:00.322376Z",
     "iopub.status.idle": "2025-08-29T20:11:00.635005Z",
     "shell.execute_reply": "2025-08-29T20:11:00.634062Z"
    }
   },
   "outputs": [
    {
     "data": {
      "text/plain": [
       "user_id\n",
       "3933    0.986013\n",
       "4201    0.342580\n",
       "46      0.342580\n",
       "5034    0.333333\n",
       "253     0.333333\n",
       "          ...   \n",
       "2328    0.000000\n",
       "2329    0.000000\n",
       "2330    0.000000\n",
       "2331    0.000000\n",
       "2314    0.000000\n",
       "Name: 1, Length: 5148, dtype: float64"
      ]
     },
     "metadata": {},
     "output_type": "display_data"
    },
    {
     "data": {
      "text/plain": [
       "[[3933, 0.9860132971832689],\n",
       " [4201, 0.34258007985157446],\n",
       " [46, 0.34258007985157446],\n",
       " [5034, 0.3333333333333333],\n",
       " [253, 0.3333333333333333],\n",
       " [824, 0.3333333333333333],\n",
       " [5041, 0.30151134457776363],\n",
       " [2305, 0.2981423969999719],\n",
       " [136, 0.2981423969999719],\n",
       " [395, 0.29488391230979427],\n",
       " [890, 0.29462782549439476],\n",
       " [4510, 0.29462782549439476],\n",
       " [193, 0.2886751345948129],\n",
       " [4504, 0.2886751345948129],\n",
       " [2447, 0.2886751345948129],\n",
       " [3031, 0.2886751345948129],\n",
       " [4020, 0.28867513459481287],\n",
       " [1355, 0.2785430072655778],\n",
       " [2423, 0.2777777777777778],\n",
       " [3329, 0.2777777777777778],\n",
       " [5013, 0.2749859704614352],\n",
       " [4134, 0.27386127875258304],\n",
       " [2897, 0.2721655269759087],\n",
       " [884, 0.2721655269759087],\n",
       " [2586, 0.2721655269759087],\n",
       " [131, 0.26943012562182533],\n",
       " [3870, 0.26943012562182533],\n",
       " [273, 0.2694079530401623],\n",
       " [10, 0.2676516895156553],\n",
       " [54, 0.2676516895156553],\n",
       " [3523, 0.26352313834736496],\n",
       " [4225, 0.2581988897471611],\n",
       " [203, 0.2551551815399144],\n",
       " [4459, 0.2551551815399144],\n",
       " [3622, 0.25423758993656337],\n",
       " [4642, 0.2541642838876745],\n",
       " [3651, 0.253546276418555],\n",
       " [4843, 0.2519763153394848],\n",
       " [4778, 0.2519763153394848],\n",
       " [5062, 0.2519763153394848],\n",
       " [322, 0.25182770057259657],\n",
       " [1330, 0.251259453814803],\n",
       " [1271, 0.251259453814803],\n",
       " [754, 0.251259453814803],\n",
       " [3589, 0.251259453814803],\n",
       " [558, 0.251259453814803],\n",
       " [3067, 0.251259453814803],\n",
       " [1413, 0.25],\n",
       " [2128, 0.25],\n",
       " [733, 0.25],\n",
       " [4749, 0.25],\n",
       " [1775, 0.25],\n",
       " [2174, 0.25],\n",
       " [1513, 0.25],\n",
       " [4716, 0.25],\n",
       " [650, 0.25],\n",
       " [268, 0.24999999999999994],\n",
       " [621, 0.24999999999999994],\n",
       " [2790, 0.24873416908154544],\n",
       " [3775, 0.24659848095803594],\n",
       " [23, 0.24385450698342997],\n",
       " [3782, 0.24385450698342997],\n",
       " [689, 0.24253562503633297],\n",
       " [3354, 0.24253562503633294],\n",
       " [659, 0.2405626121623441],\n",
       " [242, 0.23867967013151048],\n",
       " [3910, 0.23668231560156439],\n",
       " [2430, 0.23570226039551587],\n",
       " [4543, 0.23570226039551584],\n",
       " [3913, 0.2357022603955158],\n",
       " [1274, 0.2357022603955158],\n",
       " [2710, 0.2357022603955158],\n",
       " [2788, 0.2357022603955158],\n",
       " [488, 0.2357022603955158],\n",
       " [2458, 0.2357022603955158],\n",
       " [2406, 0.2357022603955158],\n",
       " [329, 0.2357022603955158],\n",
       " [4444, 0.2357022603955158],\n",
       " [2521, 0.2357022603955158],\n",
       " [2485, 0.2357022603955158],\n",
       " [254, 0.2357022603955158],\n",
       " [1620, 0.2357022603955158],\n",
       " [863, 0.2357022603955158],\n",
       " [337, 0.2357022603955158],\n",
       " [2667, 0.2357022603955158],\n",
       " [2800, 0.2357022603955158],\n",
       " [1229, 0.2357022603955158],\n",
       " [1780, 0.2357022603955158],\n",
       " [3435, 0.2357022603955158],\n",
       " [1752, 0.2357022603955158],\n",
       " [3322, 0.2357022603955158],\n",
       " [1154, 0.2357022603955158],\n",
       " [325, 0.2357022603955158],\n",
       " [2819, 0.2357022603955158],\n",
       " [343, 0.2357022603955158],\n",
       " [1427, 0.2357022603955158],\n",
       " [1988, 0.2357022603955158],\n",
       " [2725, 0.2357022603955158],\n",
       " [4638, 0.2357022603955158],\n",
       " [334, 0.2321035412742638],\n",
       " [4453, 0.23112508176051216],\n",
       " [26, 0.23112508176051216],\n",
       " [244, 0.22941573387056174],\n",
       " [4038, 0.22866478019001174],\n",
       " [1897, 0.22866478019001174],\n",
       " [3637, 0.22613350843332272],\n",
       " [3141, 0.2253744679276044],\n",
       " [4934, 0.22452510468485448],\n",
       " [3632, 0.22452510468485443],\n",
       " [256, 0.223606797749979],\n",
       " [3621, 0.223606797749979],\n",
       " [475, 0.22360679774997894],\n",
       " [2248, 0.22360679774997894],\n",
       " [3191, 0.22360679774997894],\n",
       " [2029, 0.22360679774997894],\n",
       " [3610, 0.22360679774997894],\n",
       " [4933, 0.22360679774997894],\n",
       " [2176, 0.22360679774997894],\n",
       " [2593, 0.22360679774997894],\n",
       " [631, 0.22360679774997894],\n",
       " [1787, 0.22360679774997894],\n",
       " [261, 0.22360679774997894],\n",
       " [1567, 0.22271770159368698],\n",
       " [4736, 0.2222222222222222],\n",
       " [277, 0.2222222222222222],\n",
       " [1426, 0.2222222222222222],\n",
       " [3971, 0.2222222222222222],\n",
       " [373, 0.2222222222222222],\n",
       " [214, 0.22222222222222218],\n",
       " [135, 0.2211629342323457],\n",
       " [371, 0.2211629342323457],\n",
       " [3784, 0.2211629342323457],\n",
       " [187, 0.22047927592204916],\n",
       " [290, 0.21884405476620425],\n",
       " [2982, 0.21884405476620425],\n",
       " [263, 0.21821789023599236],\n",
       " [3572, 0.21821789023599236],\n",
       " [445, 0.2166445612065605],\n",
       " [4502, 0.21516574145596756],\n",
       " [280, 0.21516574145596756],\n",
       " [3305, 0.21516574145596756],\n",
       " [4792, 0.21516574145596756],\n",
       " [4082, 0.21516574145596756],\n",
       " [82, 0.21516574145596756],\n",
       " [3237, 0.21516574145596756],\n",
       " [3636, 0.21516574145596756],\n",
       " [90, 0.21320071635561041],\n",
       " [64, 0.21081851067789198],\n",
       " [4648, 0.21081851067789195],\n",
       " [1705, 0.21081851067789195],\n",
       " [4002, 0.21081851067789195],\n",
       " [2471, 0.21081851067789195],\n",
       " [995, 0.21081851067789195],\n",
       " [4282, 0.21081851067789195],\n",
       " [4206, 0.20953951903123738],\n",
       " [114, 0.20833333333333331],\n",
       " [63, 0.20833333333333331],\n",
       " [365, 0.20833333333333331],\n",
       " [3943, 0.20833333333333331],\n",
       " [5023, 0.20833333333333331],\n",
       " [3136, 0.20823168251814145],\n",
       " [40, 0.2080125735844609],\n",
       " [4932, 0.2080125735844609],\n",
       " [4209, 0.20623947784607635],\n",
       " [3024, 0.20623947784607632],\n",
       " [3757, 0.2041241452319315],\n",
       " [4404, 0.2041241452319315],\n",
       " [3972, 0.2041241452319315],\n",
       " [2410, 0.2041241452319315],\n",
       " [235, 0.2041241452319315],\n",
       " [4506, 0.2041241452319315],\n",
       " [3335, 0.2041241452319315],\n",
       " [2318, 0.2041241452319315],\n",
       " [3324, 0.2041241452319315],\n",
       " [223, 0.2041241452319315],\n",
       " [5079, 0.20309059861498083],\n",
       " [72, 0.20309059861498083],\n",
       " [1353, 0.2021130208636108],\n",
       " [3535, 0.2021130208636108],\n",
       " [4248, 0.20211302086361077],\n",
       " [22, 0.20211302086361077],\n",
       " [3732, 0.20100756305184242],\n",
       " [4013, 0.20100756305184242],\n",
       " [41, 0.20100756305184242],\n",
       " [164, 0.20100756305184242],\n",
       " [4824, 0.2],\n",
       " [3697, 0.19999999999999998],\n",
       " [3358, 0.19999999999999998],\n",
       " [49, 0.19900743804199783],\n",
       " [4293, 0.1987615979999813],\n",
       " [912, 0.19779694303230885],\n",
       " [52, 0.19695964928958384],\n",
       " [3710, 0.19641855032959654],\n",
       " [65, 0.19641855032959654],\n",
       " [598, 0.19641855032959654],\n",
       " [3540, 0.19641855032959654],\n",
       " [1162, 0.19641855032959654],\n",
       " [907, 0.19641855032959654],\n",
       " [511, 0.19611613513818402],\n",
       " [28, 0.19611613513818402],\n",
       " [4471, 0.19611613513818402],\n",
       " [3596, 0.19528336647123584],\n",
       " [696, 0.19448665533052606],\n",
       " [656, 0.19444444444444442],\n",
       " [4882, 0.1924500897298753],\n",
       " [305, 0.1924500897298753],\n",
       " [4485, 0.19245008972987526],\n",
       " [931, 0.19245008972987526],\n",
       " [849, 0.19245008972987526],\n",
       " [3483, 0.19245008972987526],\n",
       " [4999, 0.19245008972987526],\n",
       " [2850, 0.19245008972987526],\n",
       " [2479, 0.19245008972987526],\n",
       " [396, 0.19245008972987526],\n",
       " [111, 0.19245008972987526],\n",
       " [3407, 0.19245008972987526],\n",
       " [930, 0.19245008972987526],\n",
       " [1661, 0.19245008972987526],\n",
       " [3711, 0.19245008972987526],\n",
       " [4016, 0.19245008972987526],\n",
       " [249, 0.19245008972987526],\n",
       " [264, 0.19245008972987526],\n",
       " [3218, 0.19245008972987526],\n",
       " [1320, 0.19245008972987526],\n",
       " [2742, 0.19245008972987526],\n",
       " [4329, 0.19245008972987526],\n",
       " [3664, 0.19245008972987526],\n",
       " [327, 0.19245008972987526],\n",
       " [2163, 0.19245008972987526],\n",
       " [3733, 0.19245008972987526],\n",
       " [2552, 0.19245008972987526],\n",
       " [1512, 0.19245008972987526],\n",
       " [189, 0.19245008972987526],\n",
       " [2514, 0.19245008972987526],\n",
       " [1766, 0.19245008972987526],\n",
       " [2350, 0.19245008972987526],\n",
       " [1665, 0.19245008972987526],\n",
       " [2451, 0.19245008972987526],\n",
       " [302, 0.19245008972987526],\n",
       " [1446, 0.19245008972987526],\n",
       " [146, 0.19245008972987526],\n",
       " [3833, 0.19245008972987526],\n",
       " [1595, 0.19245008972987526],\n",
       " [2257, 0.19245008972987526],\n",
       " [4186, 0.19245008972987526],\n",
       " [2879, 0.19245008972987526],\n",
       " [2507, 0.19245008972987526],\n",
       " [1359, 0.19245008972987526],\n",
       " [2579, 0.19245008972987526],\n",
       " [3088, 0.19245008972987526],\n",
       " [894, 0.19245008972987526],\n",
       " [4674, 0.19245008972987526],\n",
       " [3408, 0.19245008972987523],\n",
       " [324, 0.19245008972987523],\n",
       " [2161, 0.19245008972987523],\n",
       " [21, 0.19205531989934396],\n",
       " [3684, 0.19179881852291683],\n",
       " [4697, 0.1911797782254681],\n",
       " [215, 0.1911797782254681],\n",
       " [24, 0.1911797782254681],\n",
       " [4788, 0.1911797782254681],\n",
       " [456, 0.1911797782254681],\n",
       " [4785, 0.19050019050028577],\n",
       " [4110, 0.1889822365046136],\n",
       " [182, 0.1889822365046136],\n",
       " [3879, 0.1889822365046136],\n",
       " [326, 0.1889822365046136],\n",
       " [1673, 0.1889822365046136],\n",
       " [866, 0.1889822365046136],\n",
       " [4663, 0.1889822365046136],\n",
       " [92, 0.1889822365046136],\n",
       " [69, 0.1889822365046136],\n",
       " [2197, 0.1889822365046136],\n",
       " [2949, 0.1889822365046136],\n",
       " [1747, 0.1889822365046136],\n",
       " [3917, 0.1889822365046136],\n",
       " [487, 0.1889822365046136],\n",
       " [3532, 0.18856180831641267],\n",
       " [186, 0.18670401120373462],\n",
       " [4495, 0.18633899812498245],\n",
       " [557, 0.18633899812498245],\n",
       " [312, 0.18633899812498245],\n",
       " [4620, 0.1849000654084097],\n",
       " [843, 0.1849000654084097],\n",
       " [5070, 0.1849000654084097],\n",
       " [3425, 0.1849000654084097],\n",
       " [38, 0.18446619684315546],\n",
       " [87, 0.18257418583505536],\n",
       " [3818, 0.18257418583505536],\n",
       " [4774, 0.18220272220337375],\n",
       " [4484, 0.18220272220337375],\n",
       " [641, 0.181848241863327],\n",
       " [4526, 0.181848241863327],\n",
       " [3376, 0.181848241863327],\n",
       " [2908, 0.181848241863327],\n",
       " [125, 0.1800205749557739],\n",
       " [4755, 0.1797866299901979],\n",
       " [698, 0.1781741612749496],\n",
       " [2718, 0.1781741612749496],\n",
       " [1301, 0.1781741612749496],\n",
       " [828, 0.1781741612749496],\n",
       " [1386, 0.1781741612749496],\n",
       " [3466, 0.1781741612749496],\n",
       " [3421, 0.1781741612749496],\n",
       " [607, 0.1781741612749496],\n",
       " [5138, 0.17801724872907798],\n",
       " [665, 0.17791499872137212],\n",
       " [4231, 0.17766726362967533],\n",
       " [510, 0.17766726362967533],\n",
       " [204, 0.1767766952966369],\n",
       " [4496, 0.17677669529663687],\n",
       " [532, 0.17677669529663687],\n",
       " [3069, 0.17677669529663687],\n",
       " [44, 0.17677669529663687],\n",
       " [2199, 0.17677669529663687],\n",
       " [4711, 0.17677669529663687],\n",
       " [3197, 0.17677669529663687],\n",
       " [89, 0.17677669529663687],\n",
       " [977, 0.17677669529663687],\n",
       " [585, 0.17677669529663687],\n",
       " [871, 0.17677669529663687],\n",
       " [2898, 0.17677669529663687],\n",
       " [3640, 0.17677669529663687],\n",
       " [4763, 0.17677669529663687],\n",
       " [4786, 0.17677669529663687],\n",
       " [3363, 0.17677669529663687],\n",
       " [5052, 0.17677669529663687],\n",
       " [998, 0.17677669529663687],\n",
       " [4921, 0.17677669529663687],\n",
       " [3749, 0.17677669529663687],\n",
       " [4045, 0.17677669529663687],\n",
       " [1671, 0.17677669529663687],\n",
       " [765, 0.17660431427533918],\n",
       " [211, 0.17407765595569785],\n",
       " [330, 0.17407765595569785],\n",
       " [67, 0.17391639824998364],\n",
       " [3856, 0.17391639824998364],\n",
       " [4725, 0.17376201171422898],\n",
       " [4802, 0.17376201171422898],\n",
       " [640, 0.17376201171422898],\n",
       " [4037, 0.17376201171422898],\n",
       " [4167, 0.17376201171422898],\n",
       " [647, 0.17376201171422898],\n",
       " [1281, 0.17213259316477406],\n",
       " [296, 0.17213259316477406],\n",
       " [3485, 0.17149858514250882],\n",
       " [4892, 0.17071583991052797],\n",
       " [4088, 0.17010345435994292],\n",
       " [471, 0.17010345435994292],\n",
       " [251, 0.17010345435994292],\n",
       " [1244, 0.17010345435994292],\n",
       " [304, 0.17010345435994292],\n",
       " [4515, 0.17010345435994292],\n",
       " [3764, 0.1692243608556032],\n",
       " [98, 0.1692243608556032],\n",
       " [184, 0.1679842102263232],\n",
       " [3100, 0.16666666666666669],\n",
       " [3441, 0.16666666666666669],\n",
       " [2424, 0.16666666666666666],\n",
       " [1650, 0.16666666666666666],\n",
       " [1643, 0.16666666666666666],\n",
       " [566, 0.16666666666666666],\n",
       " [2433, 0.16666666666666666],\n",
       " [576, 0.16666666666666666],\n",
       " [2244, 0.16666666666666666],\n",
       " [625, 0.16666666666666666],\n",
       " [4457, 0.16666666666666666],\n",
       " [1200, 0.16666666666666666],\n",
       " [3920, 0.16666666666666666],\n",
       " [524, 0.16666666666666666],\n",
       " [4981, 0.16666666666666666],\n",
       " [4982, 0.16666666666666666],\n",
       " [1196, 0.16666666666666666],\n",
       " [1647, 0.16666666666666666],\n",
       " [2543, 0.16666666666666666],\n",
       " [2551, 0.16666666666666666],\n",
       " [594, 0.16666666666666666],\n",
       " [3921, 0.16666666666666666],\n",
       " [3874, 0.16666666666666666],\n",
       " [2860, 0.16666666666666666],\n",
       " [2234, 0.16666666666666666],\n",
       " [2697, 0.16666666666666666],\n",
       " [1994, 0.16666666666666666],\n",
       " [2542, 0.16666666666666666],\n",
       " [1187, 0.16666666666666666],\n",
       " [547, 0.16666666666666666],\n",
       " [3277, 0.16666666666666666],\n",
       " [1950, 0.16666666666666666],\n",
       " [2760, 0.16666666666666666],\n",
       " [1965, 0.16666666666666666],\n",
       " [1205, 0.16666666666666666],\n",
       " [610, 0.16666666666666666],\n",
       " [2863, 0.16666666666666666],\n",
       " [611, 0.16666666666666666],\n",
       " [3145, 0.16666666666666666],\n",
       " [2549, 0.16666666666666666],\n",
       " [615, 0.16666666666666666],\n",
       " [2544, 0.16666666666666666],\n",
       " [1194, 0.16666666666666666],\n",
       " [544, 0.16666666666666666],\n",
       " [1986, 0.16666666666666666],\n",
       " [2557, 0.16666666666666666],\n",
       " [605, 0.16666666666666666],\n",
       " [3776, 0.16666666666666666],\n",
       " [2285, 0.16666666666666666],\n",
       " [2957, 0.16666666666666666],\n",
       " [1499, 0.16666666666666666],\n",
       " [1726, 0.16666666666666666],\n",
       " [2681, 0.16666666666666666],\n",
       " [2282, 0.16666666666666666],\n",
       " [4396, 0.16666666666666666],\n",
       " [2353, 0.16666666666666666],\n",
       " [3515, 0.16666666666666666],\n",
       " [1838, 0.16666666666666666],\n",
       " [2965, 0.16666666666666666],\n",
       " [2676, 0.16666666666666666],\n",
       " [2680, 0.16666666666666666],\n",
       " [3228, 0.16666666666666666],\n",
       " [3057, 0.16666666666666666],\n",
       " [2370, 0.16666666666666666],\n",
       " [2679, 0.16666666666666666],\n",
       " [1852, 0.16666666666666666],\n",
       " [3774, 0.16666666666666666],\n",
       " [1059, 0.16666666666666666],\n",
       " [1062, 0.16666666666666666],\n",
       " [2267, 0.16666666666666666],\n",
       " [4880, 0.16666666666666666],\n",
       " [2752, 0.16666666666666666],\n",
       " [793, 0.16666666666666666],\n",
       " [3947, 0.16666666666666666],\n",
       " [2478, 0.16666666666666666],\n",
       " [2481, 0.16666666666666666],\n",
       " [2475, 0.16666666666666666],\n",
       " [2482, 0.16666666666666666],\n",
       " [1756, 0.16666666666666666],\n",
       " [2474, 0.16666666666666666],\n",
       " [1778, 0.16666666666666666],\n",
       " [3189, 0.16666666666666666],\n",
       " [1785, 0.16666666666666666],\n",
       " [4800, 0.16666666666666666],\n",
       " [2352, 0.16666666666666666],\n",
       " [2351, 0.16666666666666666],\n",
       " [1789, 0.16666666666666666],\n",
       " [4334, 0.16666666666666666],\n",
       " [3649, 0.16666666666666666],\n",
       " [921, 0.16666666666666666],\n",
       " [919, 0.16666666666666666],\n",
       " [2683, 0.16666666666666666],\n",
       " [3209, 0.16666666666666666],\n",
       " [3210, 0.16666666666666666],\n",
       " [3992, 0.16666666666666666],\n",
       " [2289, 0.16666666666666666],\n",
       " [905, 0.16666666666666666],\n",
       " [904, 0.16666666666666666],\n",
       " [2494, 0.16666666666666666],\n",
       " [3663, 0.16666666666666666],\n",
       " [2495, 0.16666666666666666],\n",
       " [1001, 0.16666666666666666],\n",
       " [4738, 0.16666666666666666],\n",
       " [2258, 0.16666666666666666],\n",
       " [1910, 0.16666666666666666],\n",
       " [2528, 0.16666666666666666],\n",
       " [2529, 0.16666666666666666],\n",
       " [2530, 0.16666666666666666],\n",
       " [2531, 0.16666666666666666],\n",
       " [2886, 0.16666666666666666],\n",
       " [2532, 0.16666666666666666],\n",
       " [1462, 0.16666666666666666],\n",
       " [1658, 0.16666666666666666],\n",
       " [3790, 0.16666666666666666],\n",
       " [2880, 0.16666666666666666],\n",
       " [3906, 0.16666666666666666],\n",
       " [2533, 0.16666666666666666],\n",
       " [3264, 0.16666666666666666],\n",
       " [1655, 0.16666666666666666],\n",
       " [2534, 0.16666666666666666],\n",
       " [2695, 0.16666666666666666],\n",
       " [1938, 0.16666666666666666],\n",
       " [2535, 0.16666666666666666],\n",
       " [2536, 0.16666666666666666],\n",
       " [1153, 0.16666666666666666],\n",
       " [2537, 0.16666666666666666],\n",
       " [2987, 0.16666666666666666],\n",
       " [2538, 0.16666666666666666],\n",
       " [2539, 0.16666666666666666],\n",
       " [3472, 0.16666666666666666],\n",
       " [1879, 0.16666666666666666],\n",
       " [4757, 0.16666666666666666],\n",
       " [1880, 0.16666666666666666],\n",
       " [2899, 0.16666666666666666],\n",
       " [2517, 0.16666666666666666],\n",
       " [2518, 0.16666666666666666],\n",
       " [4751, 0.16666666666666666],\n",
       " [2519, 0.16666666666666666],\n",
       " [1885, 0.16666666666666666],\n",
       " [2896, 0.16666666666666666],\n",
       " [2520, 0.16666666666666666],\n",
       " [1098, 0.16666666666666666],\n",
       " [2320, 0.16666666666666666],\n",
       " [3630, 0.16666666666666666],\n",
       " [1896, 0.16666666666666666],\n",
       " [1103, 0.16666666666666666],\n",
       " [3251, 0.16666666666666666],\n",
       " [1104, 0.16666666666666666],\n",
       " [1898, 0.16666666666666666],\n",
       " [2753, 0.16666666666666666],\n",
       " [1438, 0.16666666666666666],\n",
       " [4744, 0.16666666666666666],\n",
       " [1113, 0.16666666666666666],\n",
       " [2522, 0.16666666666666666],\n",
       " [2523, 0.16666666666666666],\n",
       " [2524, 0.16666666666666666],\n",
       " [2892, 0.16666666666666666],\n",
       " [4904, 0.16666666666666666],\n",
       " [1276, 0.16666666666666666],\n",
       " [2826, 0.16666666666666666],\n",
       " [2214, 0.16666666666666666],\n",
       " [2825, 0.16666666666666666],\n",
       " [2591, 0.16666666666666666],\n",
       " [3010, 0.16666666666666666],\n",
       " [2060, 0.16666666666666666],\n",
       " [353, 0.16666666666666666],\n",
       " [2821, 0.16666666666666666],\n",
       " [2595, 0.16666666666666666],\n",
       " [5120, 0.16666666666666666],\n",
       " [3068, 0.16666666666666666],\n",
       " [2597, 0.16666666666666666],\n",
       " [2820, 0.16666666666666666],\n",
       " [2626, 0.16666666666666666],\n",
       " [340, 0.16666666666666666],\n",
       " [2067, 0.16666666666666666],\n",
       " [338, 0.16666666666666666],\n",
       " [3839, 0.16666666666666666],\n",
       " [2717, 0.16666666666666666],\n",
       " [1361, 0.16666666666666666],\n",
       " [348, 0.16666666666666666],\n",
       " [2701, 0.16666666666666666],\n",
       " [2150, 0.16666666666666666],\n",
       " [2669, 0.16666666666666666],\n",
       " [2835, 0.16666666666666666],\n",
       " [4477, 0.16666666666666666],\n",
       " [1377, 0.16666666666666666],\n",
       " [1257, 0.16666666666666666],\n",
       " [2044, 0.16666666666666666],\n",
       " [1597, 0.16666666666666666],\n",
       " [2384, 0.16666666666666666],\n",
       " [374, 0.16666666666666666],\n",
       " [2336, 0.16666666666666666],\n",
       " [400, 0.16666666666666666],\n",
       " [397, 0.16666666666666666],\n",
       " [394, 0.16666666666666666],\n",
       " [392, 0.16666666666666666],\n",
       " [2049, 0.16666666666666666],\n",
       " [2050, 0.16666666666666666],\n",
       " [2828, 0.16666666666666666],\n",
       " [2360, 0.16666666666666666],\n",
       " [4586, 0.16666666666666666],\n",
       " [4047, 0.16666666666666666],\n",
       " [2830, 0.16666666666666666],\n",
       " [272, 0.16666666666666666],\n",
       " [2208, 0.16666666666666666],\n",
       " [5069, 0.16666666666666666],\n",
       " [3022, 0.16666666666666666],\n",
       " [1553, 0.16666666666666666],\n",
       " [2123, 0.16666666666666666],\n",
       " [1319, 0.16666666666666666],\n",
       " [2709, 0.16666666666666666],\n",
       " [5074, 0.16666666666666666],\n",
       " [247, 0.16666666666666666],\n",
       " [331, 0.16666666666666666],\n",
       " [2769, 0.16666666666666666],\n",
       " [2101, 0.16666666666666666],\n",
       " [3737, 0.16666666666666666],\n",
       " [5076, 0.16666666666666666],\n",
       " [2606, 0.16666666666666666],\n",
       " [2395, 0.16666666666666666],\n",
       " [2394, 0.16666666666666666],\n",
       " [3096, 0.16666666666666666],\n",
       " [2707, 0.16666666666666666],\n",
       " [2802, 0.16666666666666666],\n",
       " [201, 0.16666666666666666],\n",
       " [2136, 0.16666666666666666],\n",
       " [2135, 0.16666666666666666],\n",
       " [155, 0.16666666666666666],\n",
       " [1431, 0.16666666666666666],\n",
       " [1358, 0.16666666666666666],\n",
       " [2074, 0.16666666666666666],\n",
       " [1294, 0.16666666666666666],\n",
       " [2622, 0.16666666666666666],\n",
       " [1578, 0.16666666666666666],\n",
       " [2815, 0.16666666666666666],\n",
       " [2618, 0.16666666666666666],\n",
       " [2621, 0.16666666666666666],\n",
       " [294, 0.16666666666666666],\n",
       " [2813, 0.16666666666666666],\n",
       " [1574, 0.16666666666666666],\n",
       " [3565, 0.16666666666666666],\n",
       " [2089, 0.16666666666666666],\n",
       " [2091, 0.16666666666666666],\n",
       " [282, 0.16666666666666666],\n",
       " [2767, 0.16666666666666666],\n",
       " [2093, 0.16666666666666666],\n",
       " [276, 0.16666666666666666],\n",
       " [2131, 0.16666666666666666],\n",
       " [3819, 0.16666666666666666],\n",
       " [489, 0.16666666666666666],\n",
       " [2568, 0.16666666666666666],\n",
       " [4583, 0.16666666666666666],\n",
       " [3712, 0.16666666666666666],\n",
       " [2377, 0.16666666666666666],\n",
       " [2779, 0.16666666666666666],\n",
       " [3304, 0.16666666666666666],\n",
       " [2569, 0.16666666666666666],\n",
       " [2722, 0.16666666666666666],\n",
       " [2713, 0.16666666666666666],\n",
       " [2021, 0.16666666666666666],\n",
       " [465, 0.16666666666666666],\n",
       " [2573, 0.16666666666666666],\n",
       " [2675, 0.16666666666666666],\n",
       " [1220, 0.16666666666666666],\n",
       " [2700, 0.16666666666666666],\n",
       " [452, 0.16666666666666666],\n",
       " [2419, 0.16666666666666666],\n",
       " [1398, 0.16666666666666666],\n",
       " [2570, 0.16666666666666666],\n",
       " [2477, 0.16666666666666666],\n",
       " [1417, 0.16666666666666666],\n",
       " [2648, 0.16666666666666666],\n",
       " [4595, 0.16666666666666666],\n",
       " [2566, 0.16666666666666666],\n",
       " [505, 0.16666666666666666],\n",
       " [504, 0.16666666666666666],\n",
       " [2000, 0.16666666666666666],\n",
       " [4198, 0.16666666666666666],\n",
       " [1518, 0.16666666666666666],\n",
       " [2771, 0.16666666666666666],\n",
       " [3758, 0.16666666666666666],\n",
       " [2005, 0.16666666666666666],\n",
       " [1214, 0.16666666666666666],\n",
       " [1411, 0.16666666666666666],\n",
       " [2008, 0.16666666666666666],\n",
       " [3581, 0.16666666666666666],\n",
       " [2009, 0.16666666666666666],\n",
       " [1521, 0.16666666666666666],\n",
       " [2567, 0.16666666666666666],\n",
       " [3390, 0.16666666666666666],\n",
       " [3709, 0.16666666666666666],\n",
       " [436, 0.16666666666666666],\n",
       " [99, 0.16666666666666666],\n",
       " [2671, 0.16666666666666666],\n",
       " [74, 0.16666666666666666],\n",
       " [1231, 0.16666666666666666],\n",
       " [4611, 0.16666666666666666],\n",
       " [2838, 0.16666666666666666],\n",
       " [2580, 0.16666666666666666],\n",
       " [2762, 0.16666666666666666],\n",
       " [2839, 0.16666666666666666],\n",
       " [428, 0.16666666666666666],\n",
       " [2347, 0.16666666666666666],\n",
       " [2167, 0.16666666666666666],\n",
       " [3373, 0.16666666666666666],\n",
       " [2785, 0.16666666666666666],\n",
       " [3949, 0.1643989873053573],\n",
       " [1040, 0.1643989873053573],\n",
       " [2926, 0.16412198797244362],\n",
       " [619, 0.16412198797244362],\n",
       " [1163, 0.16343011261515333],\n",
       " [3693, 0.16222142113076254],\n",
       " [2981, 0.16222142113076254],\n",
       " [4623, 0.16169041669088863],\n",
       " [4356, 0.16169041669088863],\n",
       " [347, 0.16169041669088863],\n",
       " [57, 0.16169041669088863],\n",
       " [4071, 0.16169041669088863],\n",
       " [707, 0.16169041669088863],\n",
       " [122, 0.16169041669088863],\n",
       " [3474, 0.16169041669088863],\n",
       " [1633, 0.16169041669088863],\n",
       " [4511, 0.16169041669088863],\n",
       " [4130, 0.16037507477489604],\n",
       " [3118, 0.16037507477489604],\n",
       " [670, 0.16037507477489604],\n",
       " [3741, 0.16037507477489604],\n",
       " [379, 0.16012815380508713],\n",
       " [409, 0.16012815380508713],\n",
       " [362, 0.16012815380508713],\n",
       " [757, 0.15811388300841897],\n",
       " [3353, 0.15811388300841897],\n",
       " [3, 0.15811388300841897],\n",
       " [245, 0.15811388300841897],\n",
       " [4969, 0.15811388300841897],\n",
       " [48, 0.15811388300841897],\n",
       " [565, 0.15811388300841897],\n",
       " [335, 0.15811388300841897],\n",
       " [2845, 0.15811388300841897],\n",
       " [2510, 0.15811388300841897],\n",
       " [1405, 0.15811388300841897],\n",
       " [4517, 0.15748519708717798],\n",
       " [4254, 0.15713484026367724],\n",
       " [4255, 0.15713484026367724],\n",
       " [6, 0.15713484026367724],\n",
       " [5143, 0.15713484026367724],\n",
       " [3292, 0.15713484026367724],\n",
       " [681, 0.15713484026367724],\n",
       " [3518, 0.15713484026367724],\n",
       " [5124, 0.15713484026367724],\n",
       " [4768, 0.15713484026367724],\n",
       " [85, 0.15713484026367724],\n",
       " [807, 0.15617376188860607],\n",
       " [3794, 0.15617376188860607],\n",
       " [168, 0.15474611514754322],\n",
       " [3966, 0.15474611514754322],\n",
       " [3005, 0.15474611514754322],\n",
       " [926, 0.15474611514754322],\n",
       " [639, 0.15474611514754322],\n",
       " [4706, 0.15452877499092177],\n",
       " [288, 0.15319083833634295],\n",
       " [927, 0.15294382258037448],\n",
       " [1137, 0.15294382258037448],\n",
       " [5077, 0.15294382258037448],\n",
       " [2144, 0.15294382258037448],\n",
       " [4272, 0.15294382258037448],\n",
       " [213, 0.15294382258037448],\n",
       " [4522, 0.15294382258037448],\n",
       " [3801, 0.15214515486254612],\n",
       " [11, 0.15214515486254612],\n",
       " [3172, 0.15214515486254612],\n",
       " [790, 0.15075567228888181],\n",
       " [3042, 0.15075567228888181],\n",
       " [95, 0.15075567228888181],\n",
       " [5053, 0.15075567228888181],\n",
       " [4554, 0.15075567228888181],\n",
       " [163, 0.15075567228888181],\n",
       " [4947, 0.15075567228888181],\n",
       " [241, 0.15075567228888181],\n",
       " [674, 0.15075567228888181],\n",
       " [1566, 0.15075567228888181],\n",
       " [4795, 0.15075567228888181],\n",
       " [359, 0.15075567228888181],\n",
       " [1437, 0.15075567228888181],\n",
       " [4390, 0.15075567228888181],\n",
       " [3327, 0.15075567228888181],\n",
       " [3436, 0.15075567228888181],\n",
       " [3564, 0.15075567228888181],\n",
       " [1354, 0.15075567228888181],\n",
       " [160, 0.15075567228888181],\n",
       " [126, 0.1496710850223124],\n",
       " [112, 0.14907119849998596],\n",
       " [5083, 0.14907119849998596],\n",
       " [984, 0.14907119849998596],\n",
       " [780, 0.14907119849998596],\n",
       " [2516, 0.14907119849998596],\n",
       " [2661, 0.14907119849998596],\n",
       " [4414, 0.14907119849998596],\n",
       " [1543, 0.14907119849998596],\n",
       " [3824, 0.14907119849998596],\n",
       " [3783, 0.14907119849998596],\n",
       " [2682, 0.14907119849998596],\n",
       " [4834, 0.14907119849998596],\n",
       " [4624, 0.14907119849998596],\n",
       " [996, 0.14907119849998596],\n",
       " [1061, 0.14907119849998596],\n",
       " [34, 0.14907119849998596],\n",
       " [1401, 0.14907119849998596],\n",
       " [140, 0.14907119849998596],\n",
       " [4091, 0.14907119849998596],\n",
       " [4307, 0.14907119849998596],\n",
       " [697, 0.14907119849998596],\n",
       " [3336, 0.14907119849998596],\n",
       " [1284, 0.14907119849998596],\n",
       " [3426, 0.14907119849998596],\n",
       " [3629, 0.14907119849998596],\n",
       " [3430, 0.14907119849998596],\n",
       " [736, 0.14907119849998596],\n",
       " [3268, 0.14907119849998596],\n",
       " [4128, 0.14907119849998596],\n",
       " [3065, 0.14907119849998596],\n",
       " [5018, 0.14907119849998596],\n",
       " [5014, 0.14907119849998596],\n",
       " [437, 0.14907119849998596],\n",
       " [752, 0.14907119849998596],\n",
       " [753, 0.14907119849998596],\n",
       " [974, 0.14907119849998596],\n",
       " [1627, 0.14907119849998596],\n",
       " [3872, 0.14907119849998596],\n",
       " [536, 0.14907119849998596],\n",
       " [5011, 0.14907119849998596],\n",
       " [542, 0.14907119849998596],\n",
       " [5005, 0.14907119849998596],\n",
       " [482, 0.14907119849998596],\n",
       " [2355, 0.14907119849998596],\n",
       " [4974, 0.14907119849998596],\n",
       " [473, 0.14907119849998596],\n",
       " [383, 0.14731391274719738],\n",
       " [4588, 0.14547859349066158],\n",
       " [181, 0.14547859349066158],\n",
       " [896, 0.14547859349066158],\n",
       " [3812, 0.14547859349066158],\n",
       " [4268, 0.14547859349066158],\n",
       " [88, 0.14506471329641488],\n",
       " [4900, 0.14506471329641488],\n",
       " [1038, 0.14433756729740646],\n",
       " [3618, 0.14433756729740646],\n",
       " [1264, 0.14433756729740643],\n",
       " [3876, 0.14433756729740643],\n",
       " [885, 0.14433756729740643],\n",
       " [332, 0.14433756729740643],\n",
       " [3404, 0.14433756729740643],\n",
       " [205, 0.14433756729740643],\n",
       " [200, 0.14433756729740643],\n",
       " [225, 0.14433756729740643],\n",
       " [2312, 0.14433756729740643],\n",
       " [4883, 0.14285714285714285],\n",
       " [113, 0.14285714285714285],\n",
       " [3578, 0.14285714285714285],\n",
       " [860, 0.14213381090374028],\n",
       " [490, 0.14213381090374028],\n",
       " [4668, 0.14213381090374028],\n",
       " [512, 0.14213381090374028],\n",
       " [745, 0.14213381090374028],\n",
       " [4323, 0.14213381090374028],\n",
       " [3802, 0.14213381090374028],\n",
       " [195, 0.14002800840280097],\n",
       " [58, 0.13944333775567924],\n",
       " [3877, 0.13900960937138318],\n",
       " [134, 0.13900960937138318],\n",
       " [4274, 0.13900960937138318],\n",
       " [4497, 0.13900960937138318],\n",
       " [4449, 0.13900960937138318],\n",
       " [1068, 0.13900960937138318],\n",
       " [1213, 0.1386750490563073],\n",
       " [3434, 0.1386750490563073],\n",
       " [727, 0.1386750490563073],\n",
       " [2934, 0.1386750490563073],\n",
       " [5115, 0.1386750490563073],\n",
       " [4015, 0.1386750490563073],\n",
       " [3918, 0.1386750490563073],\n",
       " [833, 0.1386750490563073],\n",
       " [35, 0.1386750490563073],\n",
       " [3196, 0.1386750490563073],\n",
       " [889, 0.1386750490563073],\n",
       " [4552, 0.1386750490563073],\n",
       " [2335, 0.1386750490563073],\n",
       " [4707, 0.1386750490563073],\n",
       " [662, 0.1386750490563073],\n",
       " [5140, 0.13845786012261618],\n",
       " [3740, 0.13845786012261618],\n",
       " [60, 0.13749298523071757],\n",
       " [3967, 0.13699915608779775],\n",
       " [3898, 0.13699915608779775],\n",
       " [3488, 0.13608276348795434],\n",
       " [1208, 0.13608276348795434],\n",
       " [1219, 0.13608276348795434],\n",
       " [166, 0.13608276348795434],\n",
       " [3213, 0.13608276348795434],\n",
       " [248, 0.13608276348795434],\n",
       " [4652, 0.13608276348795434],\n",
       " [3314, 0.13608276348795434],\n",
       " [2342, 0.13608276348795434],\n",
       " [1165, 0.13608276348795434],\n",
       " [422, 0.13608276348795434],\n",
       " [2450, 0.13608276348795434],\n",
       " [700, 0.13608276348795434],\n",
       " [3650, 0.13608276348795434],\n",
       " [3890, 0.13608276348795434],\n",
       " [1225, 0.13608276348795434],\n",
       " [975, 0.13608276348795434],\n",
       " [4695, 0.13608276348795434],\n",
       " [1389, 0.13608276348795434],\n",
       " [3159, 0.13608276348795434],\n",
       " [3402, 0.13608276348795434],\n",
       " [711, 0.13608276348795434],\n",
       " [4379, 0.13608276348795434],\n",
       " [76, 0.13608276348795434],\n",
       " [714, 0.13608276348795434],\n",
       " [2164, 0.13608276348795434],\n",
       " [438, 0.13608276348795434],\n",
       " [2932, 0.13608276348795434],\n",
       " [4004, 0.13608276348795434],\n",
       " [150, 0.13608276348795434],\n",
       " [4321, 0.13608276348795434],\n",
       " [219, 0.13608276348795434],\n",
       " [4732, 0.13608276348795434],\n",
       " [2556, 0.13608276348795434],\n",
       " [492, 0.13608276348795434],\n",
       " [345, 0.13608276348795434],\n",
       " [37, 0.13608276348795434],\n",
       " [2919, 0.13608276348795434],\n",
       " [3009, 0.13608276348795434],\n",
       " [533, 0.13608276348795434],\n",
       " [4456, 0.13608276348795434],\n",
       " [1347, 0.13608276348795434],\n",
       " [4096, 0.13608276348795434],\n",
       " [3190, 0.13608276348795434],\n",
       " [3368, 0.13608276348795434],\n",
       " [856, 0.13608276348795434],\n",
       " [2, 0.13608276348795434],\n",
       " [554, 0.13608276348795434],\n",
       " [2376, 0.13608276348795434],\n",
       " [3888, 0.13608276348795434],\n",
       " [156, 0.13608276348795434],\n",
       " [1129, 0.13608276348795434],\n",
       " [763, 0.13608276348795434],\n",
       " [4891, 0.13608276348795434],\n",
       " [4700, 0.13608276348795434],\n",
       " [1476, 0.13608276348795434],\n",
       " [3155, 0.13608276348795434],\n",
       " [319, 0.1351845176089688],\n",
       " [4021, 0.13518451760896877],\n",
       " [3829, 0.13518451760896877],\n",
       " [1198, 0.1336306209562122],\n",
       " [2993, 0.1336306209562122],\n",
       " [761, 0.1336306209562122],\n",
       " [938, 0.1336306209562122],\n",
       " [4277, 0.1336306209562122],\n",
       " [596, 0.1336306209562122],\n",
       " [741, 0.1336306209562122],\n",
       " [4098, 0.1336306209562122],\n",
       " [86, 0.1336306209562122],\n",
       " [260, 0.1336306209562122],\n",
       " [3378, 0.1336306209562122],\n",
       " [4245, 0.1336306209562122],\n",
       " [3835, 0.1336306209562122],\n",
       " [2688, 0.1336306209562122],\n",
       " [4311, 0.1336306209562122],\n",
       " [591, 0.1336306209562122],\n",
       " [4855, 0.1336306209562122],\n",
       " [4943, 0.1336306209562122],\n",
       " [750, 0.13344012817090595],\n",
       " [4241, 0.13333333333333333],\n",
       " [3654, 0.13333333333333333],\n",
       " [521, 0.13333333333333333],\n",
       " [3970, 0.13333333333333333],\n",
       " [845, 0.13333333333333333],\n",
       " [3633, 0.13333333333333333],\n",
       " [1272, 0.13333333333333333],\n",
       " [8, 0.13245323570650439],\n",
       " [535, 0.13176156917368248],\n",
       " [2975, 0.13130643285972254],\n",
       " [3006, 0.13130643285972254],\n",
       " [3960, 0.13074409009212268],\n",
       " [240, 0.13074409009212268],\n",
       " [4901, 0.1301448015738384],\n",
       " [829, 0.1301448015738384],\n",
       " [4393, 0.12909944487358055],\n",
       " [4197, 0.12909944487358055],\n",
       " [132, 0.12909944487358055],\n",
       " [1076, 0.12909944487358055],\n",
       " [2324, 0.12909944487358055],\n",
       " [895, 0.12909944487358055],\n",
       " [2953, 0.12909944487358055],\n",
       " [295, 0.12909944487358055],\n",
       " [4685, 0.12909944487358055],\n",
       " [2989, 0.12909944487358055],\n",
       " [209, 0.12909944487358055],\n",
       " [649, 0.12830005981991682],\n",
       " [56, 0.12830005981991682],\n",
       " [4806, 0.1259881576697424],\n",
       " [2387, 0.1259881576697424],\n",
       " [3614, 0.1259881576697424],\n",
       " [4747, 0.1259881576697424],\n",
       " [4401, 0.1259881576697424],\n",
       " [1370, 0.1259881576697424],\n",
       " [4371, 0.1259881576697424],\n",
       " [1031, 0.1259881576697424],\n",
       " [4783, 0.1259881576697424],\n",
       " [2304, 0.1259881576697424],\n",
       " [2374, 0.1259881576697424],\n",
       " [1227, 0.1259881576697424],\n",
       " [2992, 0.1259881576697424],\n",
       " [4608, 0.1259881576697424],\n",
       " [1329, 0.1259881576697424],\n",
       " [709, 0.1259881576697424],\n",
       " [771, 0.1259881576697424],\n",
       " [5108, 0.1259881576697424],\n",
       " [1449, 0.1259881576697424],\n",
       " [636, 0.1259881576697424],\n",
       " [151, 0.1259881576697424],\n",
       " [159, 0.1259881576697424],\n",
       " [2561, 0.1259881576697424],\n",
       " [3337, 0.1259881576697424],\n",
       " [104, 0.1259881576697424],\n",
       " [4246, 0.1259881576697424],\n",
       " [498, 0.1259881576697424],\n",
       " [4039, 0.1259881576697424],\n",
       " [850, 0.1259881576697424],\n",
       " [3428, 0.1259881576697424],\n",
       " [3316, 0.1259881576697424],\n",
       " [432, 0.1259881576697424],\n",
       " [3883, 0.1259881576697424],\n",
       " [3230, 0.1259881576697424],\n",
       " [2768, 0.1259881576697424],\n",
       " [3746, 0.1259881576697424],\n",
       " [3482, 0.1259881576697424],\n",
       " [410, 0.1259881576697424],\n",
       " [570, 0.1259881576697424],\n",
       " [33, 0.1259881576697424],\n",
       " [4960, 0.1259881576697424],\n",
       " [2180, 0.1259881576697424],\n",
       " [3461, 0.1259881576697424],\n",
       " ...]"
      ]
     },
     "metadata": {},
     "output_type": "display_data"
    }
   ],
   "source": [
    "### Experiment Cell - User-User Similarity\n",
    "###\n",
    "if exp:\n",
    "    cos_sim_users = pd.DataFrame(cosine_similarity(user_item),index=user_item.index,columns=user_item.index)\n",
    "    # display(cos_sim_users)\n",
    "    cos_sim_users.shape\n",
    "    # display(dp_users)\n",
    "    user_id=1\n",
    "    sim_users = cos_sim_users[user_id].sort_values(ascending=False)[1:]\n",
    "\n",
    "    display(\n",
    "        sim_users, \n",
    "        [list(p) for p in sim_users.items()],\n",
    "        # list(zip(sim_users.index,sim_users.values.tolist()))\n",
    "    )\n"
   ]
  },
  {
   "cell_type": "code",
   "execution_count": 24,
   "metadata": {
    "execution": {
     "iopub.execute_input": "2025-08-29T20:11:00.637386Z",
     "iopub.status.busy": "2025-08-29T20:11:00.637213Z",
     "iopub.status.idle": "2025-08-29T20:11:00.642817Z",
     "shell.execute_reply": "2025-08-29T20:11:00.642429Z"
    }
   },
   "outputs": [],
   "source": [
    "def find_similar_users(user_id, user_item=user_item, include_similarity=False):\n",
    "    \"\"\"\n",
    "    INPUT:\n",
    "    user_id - (int) a user_id\n",
    "    user_item - (pandas dataframe) matrix of users by articles: \n",
    "                1's when a user has interacted with an article, 0 otherwise\n",
    "    include_similarity - (bool) whether to include the similarity in the output\n",
    "    \n",
    "    OUTPUT:\n",
    "    similar_users - (list) an ordered list where the closest users (cosine similar users)\n",
    "                    are listed first\n",
    "    \n",
    "    Description:\n",
    "    Computes the similarity of every pair of users based on cosine similarity.\n",
    "    Returns an ordered list of user ids. If include_similarity is True, returns a list of lists\n",
    "    where the first element is the user id and the second the similarity.\n",
    "    \n",
    "    \"\"\"\n",
    "    \n",
    "    # compute similarity of each user to the provided user\n",
    "    cos_sim_users = pd.DataFrame(cosine_similarity(user_item),index=user_item.index,columns=user_item.index)\n",
    "\n",
    "\n",
    "    # sort by similarity\n",
    "    similar_users = cos_sim_users[user_id].sort_values(ascending = False)\n",
    "\n",
    "    # remove the own user's id\n",
    "    similar_users = similar_users[1:]\n",
    "\n",
    "    # create list of just the ids\n",
    "    most_similar_users = similar_users.index.to_list()\n",
    "    \n",
    "    # create list of just the similarities\n",
    "    most_user_similarity = list(similar_users.values.tolist())\n",
    "    \n",
    "    if include_similarity:\n",
    "        return [list(p) for p in sim_users.items()]# return a list of lists with [[similar_user_id, similarity], ...]\n",
    "    return most_similar_users # return a list of the users in order from most to least similar\n",
    "        "
   ]
  },
  {
   "cell_type": "code",
   "execution_count": 25,
   "metadata": {
    "execution": {
     "iopub.execute_input": "2025-08-29T20:11:00.644886Z",
     "iopub.status.busy": "2025-08-29T20:11:00.644330Z",
     "iopub.status.idle": "2025-08-29T20:11:01.372446Z",
     "shell.execute_reply": "2025-08-29T20:11:01.372026Z"
    }
   },
   "outputs": [
    {
     "name": "stdout",
     "output_type": "stream",
     "text": [
      "The 10 most similar users to user 1 are: [3933, 4201, 46, 5034, 253, 824, 5041, 2305, 136, 395]\n",
      "The 5 most similar users to user 3933 are: [1, 46, 4201, 5034, 253]\n",
      "The 3 most similar users to user 46 are: [4201, 790, 5077]\n",
      "\t(with similarity score) : [[3933, 0.9860132971832689], [4201, 0.34258007985157446], [46, 0.34258007985157446]]\n"
     ]
    }
   ],
   "source": [
    "# Do a spot check of your function\n",
    "print(\"The 10 most similar users to user 1 are: {}\".format(find_similar_users(1)[:10]))\n",
    "print(\"The 5 most similar users to user 3933 are: {}\".format(find_similar_users(3933)[:5]))\n",
    "print(\"The 3 most similar users to user 46 are: {}\".format(find_similar_users(46)[:3]))\n",
    "print(\"\\t(with similarity score) : {}\".format(find_similar_users(46,include_similarity=True)[:3]))\n"
   ]
  },
  {
   "cell_type": "markdown",
   "metadata": {},
   "source": [
    "`3.` Now that you have a function that provides the most similar users to each user, you will want to use these users to find articles you can recommend.  Complete the functions below to return the articles you would recommend to each user. "
   ]
  },
  {
   "cell_type": "code",
   "execution_count": 26,
   "metadata": {},
   "outputs": [
    {
     "name": "stdout",
     "output_type": "stream",
     "text": [
      "Article Names : 3 ['housing (2015): united states demographic measures', 'use the cloudant-spark connector in python notebook', 'self-service data preparation with ibm data refinery'] \n"
     ]
    },
    {
     "data": {
      "text/plain": [
       "Index([1024, 1176, 1305, 1314, 1422, 1427], dtype='int64', name='article_id')"
      ]
     },
     "metadata": {},
     "output_type": "display_data"
    }
   ],
   "source": [
    "### Experiment Cell - User Based Recommender\n",
    "if exp:\n",
    "    article_ids = [844, 232, 1320]\n",
    "    # article_names = [df[df['article_id']==float(idx)].max()['title'] for idx in article_ids]\n",
    "    article_names = df[df['article_id'].isin(article_ids)][['title']].drop_duplicates().values.flatten().tolist()\n",
    "    print(f\"Article Names : {len(article_names)} {article_names} \")\n",
    "    user_id=2\n",
    "    display(\n",
    "    user_item.loc[user_id][user_item.loc[user_id] == 1].index.astype('int')\n",
    "    )"
   ]
  },
  {
   "cell_type": "code",
   "execution_count": 27,
   "metadata": {
    "execution": {
     "iopub.execute_input": "2025-08-29T20:11:01.374255Z",
     "iopub.status.busy": "2025-08-29T20:11:01.374079Z",
     "iopub.status.idle": "2025-08-29T20:11:01.382883Z",
     "shell.execute_reply": "2025-08-29T20:11:01.382468Z"
    }
   },
   "outputs": [],
   "source": [
    "def get_article_names(article_ids, df=df):\n",
    "    \"\"\"\n",
    "    INPUT:\n",
    "    article_ids - (list) a list of article ids\n",
    "    df - (pandas dataframe) df as defined at the top of the notebook\n",
    "    \n",
    "    OUTPUT:\n",
    "    article_names - (list) a list of article names associated with the list of article ids \n",
    "                    (this is identified by the title column in df)\n",
    "    \"\"\"\n",
    "    # Your code here\n",
    "    # Filter titles from df for article_ids, drop duplicates, fetch values, flatten the list of list and convert to list \n",
    "    article_names = df[df['article_id'].isin(article_ids)][['title']].drop_duplicates().values.flatten().tolist()\n",
    "    \n",
    "    return article_names # Return the article names associated with list of article ids\n",
    "\n",
    "def get_ranked_article_unique_counts(article_ids, user_item=user_item):\n",
    "    \"\"\"\n",
    "    INPUT:\n",
    "    article_ids - (list) a list of article_id \n",
    "    user_item - (pandas dataframe) matrix of users by articles: \n",
    "                1's when a user has interacted with an article, 0 otherwise \n",
    "    \n",
    "    OUTPUT:\n",
    "    article_counts - (list) a list of tuples with article_id and number of \n",
    "                     unique users that have interacted with the article, sorted\n",
    "                     by the number of unique users in descending order\n",
    "    \n",
    "    Description:\n",
    "    Provides a list of the article_ids and the number of unique users that have\n",
    "    interacted with the article using the user_item matrix, sorted by the number\n",
    "    of unique users in descending order\n",
    "    \"\"\"\n",
    "    # Your code here\n",
    "    # Sum the number of users for each article in the provided list of article_ids, and sort the result in descending order \n",
    "    \n",
    "    sorted_article_counts = user_item[article_ids].sum(axis=0).sort_values(ascending=False)\n",
    "    \n",
    "    ranked_article_unique_counts = [list(p) for p in sorted_article_counts.items()]\n",
    "    return ranked_article_unique_counts\n",
    "\n",
    "\n",
    "def get_user_articles(user_id, user_item=user_item):\n",
    "    \"\"\"\n",
    "    INPUT:\n",
    "    user_id - (int) a user id\n",
    "    user_item - (pandas dataframe) matrix of users by articles: \n",
    "                1's when a user has interacted with an article, 0 otherwise\n",
    "    \n",
    "    OUTPUT:\n",
    "    article_ids - (list) a list of the article ids seen by the user\n",
    "    article_names - (list) a list of article names associated with the list of article ids \n",
    "                    (this is identified by the title column in df)\n",
    "    \n",
    "    Description:\n",
    "    Provides a list of the article_ids and article titles that have been seen by a user\n",
    "    \"\"\"\n",
    "    # Your code here\n",
    "    # get the article ids where user has interactions\n",
    "    article_ids = user_item.loc[user_id][user_item.loc[user_id] == 1].index.astype('int')\n",
    "    # for article_names, use the get_article_names function defined earlier\n",
    "    article_names = get_article_names(article_ids,df=df)\n",
    "    return article_ids, article_names # return the ids and names\n",
    "\n",
    "\n",
    "def user_user_recs(user_id, m=10):\n",
    "    \"\"\"\n",
    "    INPUT:\n",
    "    user_id - (int) a user id\n",
    "    m - (int) the number of recommendations you want for the user\n",
    "    \n",
    "    OUTPUT:\n",
    "    recs - (list) a list of recommendations for the user\n",
    "    \n",
    "    Description:\n",
    "    Loops through the users based on closeness to the input user_id\n",
    "    For each user - finds articles the user hasn't seen before and provides them as recs\n",
    "    Does this until m recommendations are found\n",
    "    \n",
    "    Notes:\n",
    "    Users who are the same closeness are chosen arbitrarily as the 'next' user\n",
    "    \n",
    "    For the user where the number of recommended articles starts below m \n",
    "    and ends exceeding m, the last items are chosen arbitrarily\n",
    "    \n",
    "    \"\"\"\n",
    "    # Your code here\n",
    "    recs = np.array([]) # recommendations to be made\n",
    "    \n",
    "    user_articles_seen = get_user_articles(user_id)[0] #seen by our user\n",
    "    closest_users = find_similar_users(user_id) # users closest to our user\n",
    "    \n",
    "    for others in closest_users:\n",
    "        \n",
    "        others_articles_seen = get_user_articles(others)[0] # articles seen by others like our user\n",
    "        # using `np.setdiff1d` to find the set difference of two arrays. (looks for values in first array that are not in second array)\n",
    "        new_recs = np.setdiff1d(others_articles_seen, user_articles_seen, assume_unique=True) \n",
    "        # Add new recommendations to recs array and keep only unique values as other users may have seen same articles\n",
    "        recs = np.unique(np.concatenate([new_recs, recs], axis = 0)) \n",
    "        if len(recs) >=m:\n",
    "            break\n",
    "            \n",
    "    recs = recs[:m]\n",
    "    recs.tolist()\n",
    "    \n",
    "    return recs # return recommendations for given user_id    "
   ]
  },
  {
   "cell_type": "code",
   "execution_count": 28,
   "metadata": {
    "execution": {
     "iopub.execute_input": "2025-08-29T20:11:01.387815Z",
     "iopub.status.busy": "2025-08-29T20:11:01.386971Z",
     "iopub.status.idle": "2025-08-29T20:11:01.687381Z",
     "shell.execute_reply": "2025-08-29T20:11:01.686902Z"
    }
   },
   "outputs": [
    {
     "data": {
      "text/plain": [
       "['leverage python, scikit, and text classification for behavioral profiling',\n",
       " 'challenges in deep learning',\n",
       " 'awesome deep learning papers',\n",
       " 'this week in data science (april 18, 2017)',\n",
       " 'improving the roi of big data and analytics through leveraging new sources of data',\n",
       " 'this week in data science (may 2, 2017)',\n",
       " 'using apply, sapply, lapply in r',\n",
       " 'how can data scientists collaborate to build better business',\n",
       " 'top 20 r machine learning and data science packages',\n",
       " 'do i need to learn r?']"
      ]
     },
     "execution_count": 28,
     "metadata": {},
     "output_type": "execute_result"
    }
   ],
   "source": [
    "# Check Results\n",
    "get_article_names(user_user_recs(1, 10)) # Return 10 recommendations for user 1"
   ]
  },
  {
   "cell_type": "code",
   "execution_count": 29,
   "metadata": {
    "execution": {
     "iopub.execute_input": "2025-08-29T20:11:01.689455Z",
     "iopub.status.busy": "2025-08-29T20:11:01.688916Z",
     "iopub.status.idle": "2025-08-29T20:11:01.693879Z",
     "shell.execute_reply": "2025-08-29T20:11:01.693511Z"
    }
   },
   "outputs": [
    {
     "data": {
      "text/plain": [
       "[[1320, 123], [844, 78], [232, 62]]"
      ]
     },
     "execution_count": 29,
     "metadata": {},
     "output_type": "execute_result"
    }
   ],
   "source": [
    "get_ranked_article_unique_counts([1320, 232, 844])"
   ]
  },
  {
   "cell_type": "code",
   "execution_count": 30,
   "metadata": {
    "execution": {
     "iopub.execute_input": "2025-08-29T20:11:01.696349Z",
     "iopub.status.busy": "2025-08-29T20:11:01.695760Z",
     "iopub.status.idle": "2025-08-29T20:11:01.723970Z",
     "shell.execute_reply": "2025-08-29T20:11:01.723603Z"
    }
   },
   "outputs": [
    {
     "name": "stdout",
     "output_type": "stream",
     "text": [
      "If this is all you see, you passed all of our tests!  Nice job!\n"
     ]
    }
   ],
   "source": [
    "# Test your functions here - No need to change this code - just run this cell\n",
    "assert set(get_article_names([1024, 1176, 1305, 1314, 1422, 1427])) == set(['using deep learning to reconstruct high-resolution audio', 'build a python app on the streaming analytics service', 'gosales transactions for naive bayes model', 'healthcare python streaming application demo', 'use r dataframes & ibm watson natural language understanding', 'use xgboost, scikit-learn & ibm watson machine learning apis']), \"Oops! Your the get_article_names function doesn't work quite how we expect.\"\n",
    "assert set(get_article_names([1320, 232, 844])) == set(['housing (2015): united states demographic measures','self-service data preparation with ibm data refinery','use the cloudant-spark connector in python notebook']), \"Oops! Your the get_article_names function doesn't work quite how we expect.\"\n",
    "assert set(get_user_articles(20)[0]) == set([1320, 232, 844])\n",
    "assert set(get_user_articles(20)[1]) == set(['housing (2015): united states demographic measures', 'self-service data preparation with ibm data refinery','use the cloudant-spark connector in python notebook'])\n",
    "assert set(get_user_articles(2)[0]) == set([1024, 1176, 1305, 1314, 1422, 1427])\n",
    "assert set(get_user_articles(2)[1]) == set(['using deep learning to reconstruct high-resolution audio', 'build a python app on the streaming analytics service', 'gosales transactions for naive bayes model', 'healthcare python streaming application demo', 'use r dataframes & ibm watson natural language understanding', 'use xgboost, scikit-learn & ibm watson machine learning apis'])\n",
    "assert get_ranked_article_unique_counts([1320, 232, 844])[0] == [1320, 123], \"Oops! Your the get_ranked_article_unique_counts function doesn't work quite how we expect.\\nMake sure you are using the user_item matrix to create the article counts.\"\n",
    "print(\"If this is all you see, you passed all of our tests!  Nice job!\")"
   ]
  },
  {
   "cell_type": "markdown",
   "metadata": {},
   "source": [
    "`4.` Now we are going to improve the consistency of the **user_user_recs** function from above.  \n",
    "\n",
    "* Instead of arbitrarily choosing when we obtain users who are all the same closeness to a given user - choose the users that have the most total article interactions before choosing those with fewer article interactions.\n",
    "\n",
    "\n",
    "* Instead of arbitrarily choosing articles from the user where the number of recommended articles starts below m and ends exceeding m, choose articles with the articles with the most total interactions before choosing those with fewer total interactions. This ranking should be  what would be obtained from the **top_articles** function you wrote earlier."
   ]
  },
  {
   "cell_type": "code",
   "execution_count": 31,
   "metadata": {
    "execution": {
     "iopub.execute_input": "2025-08-29T20:11:01.725595Z",
     "iopub.status.busy": "2025-08-29T20:11:01.725450Z",
     "iopub.status.idle": "2025-08-29T20:11:01.732185Z",
     "shell.execute_reply": "2025-08-29T20:11:01.731871Z"
    }
   },
   "outputs": [],
   "source": [
    "def get_top_sorted_users(user_id, user_item=user_item):\n",
    "    \"\"\"\n",
    "    INPUT:\n",
    "    user_id - (int)\n",
    "    user_item - (pandas dataframe) matrix of users by articles: \n",
    "            1's when a user has interacted with an article, 0 otherwise\n",
    "    \n",
    "            \n",
    "    OUTPUT:\n",
    "    neighbors_df - (pandas dataframe) a dataframe with:\n",
    "                    neighbor_id - is a neighbor user_id\n",
    "                    similarity - measure of the similarity of each user to the provided user_id\n",
    "                    num_interactions - the number of articles viewed by the user\n",
    "                    \n",
    "    Other Details - sort the neighbors_df by the similarity and then by number of interactions where \n",
    "                    highest of each is higher in the dataframe, i.e. Descending order\n",
    "     \n",
    "    \"\"\"\n",
    "    # Your code here\n",
    "    # Hint: find similar users, but include their similarity, from there we can find the number of interactions for each neighbor\n",
    "    # Compute the cosine similarity matrix\n",
    "    similarity_matrix = cosine_similarity(user_item)\n",
    "    # user_idx = \n",
    "    similarity_scores = similarity_matrix[user_item.index.get_loc(user_id)]\n",
    "    # Count interactions\n",
    "    num_interactions = user_item.sum(axis=1)\n",
    "\n",
    "    # Build DataFrame\n",
    "    neighbors_df = pd.DataFrame({\n",
    "        'neighbor_id': user_item.index,\n",
    "        'similarity': similarity_scores,\n",
    "        'num_interactions': num_interactions\n",
    "    })\n",
    "\n",
    "    # Remove the provided user from the results\n",
    "    neighbors_df = neighbors_df[neighbors_df['neighbor_id'] != user_id]\n",
    "\n",
    "    # Sort by similarity and then number of interactions\n",
    "    neighbors_df = neighbors_df.sort_values(\n",
    "        by=['similarity', 'num_interactions'], ascending=False).reset_index(drop=True) \n",
    "    \n",
    "    return neighbors_df # Return the dataframe specified in the doc_string\n",
    "\n",
    "\n",
    "def user_user_recs_part2(user_id, m=10):\n",
    "    \"\"\"\n",
    "    INPUT:\n",
    "    user_id - (int) a user id\n",
    "    m - (int) the number of recommendations you want for the user\n",
    "    \n",
    "    OUTPUT:\n",
    "    recs - (list) a list of recommendations for the user by article id\n",
    "    rec_names - (list) a list of recommendations for the user by article title\n",
    "    \n",
    "    Description:\n",
    "    Loops through the users based on closeness to the input user_id\n",
    "    For each user - finds articles the user hasn't seen before and provides them as recs\n",
    "    Does this until m recommendations are found\n",
    "    \n",
    "    Notes:\n",
    "    * Choose the users that have the most total article interactions \n",
    "    before choosing those with fewer article interactions.\n",
    "\n",
    "    * Choose articles with the articles with the most total interactions \n",
    "    before choosing those with fewer total interactions. \n",
    "   \n",
    "    \"\"\"\n",
    "    # Your code here\n",
    "\n",
    "    #########################\n",
    "    # Articles seen by the user\n",
    "    seen_article_ids = get_user_articles(user_id)[0]\n",
    "\n",
    "    # Find similar users sorted by similarity and interactions\n",
    "    neighbors_df = get_top_sorted_users(user_id)\n",
    "\n",
    "    recs = []\n",
    "    \n",
    "    for neighbor_id in neighbors_df['neighbor_id']:\n",
    "        neighbor_articles = get_user_articles(neighbor_id)[0]\n",
    "        # Find articles not seen by user_id and at already in recs\n",
    "        new_recs = [ rec for rec in neighbor_articles if rec not in seen_article_ids and rec not in recs]\n",
    "        recs.extend(new_recs)\n",
    "        if len(recs) >= m:\n",
    "            break\n",
    "\n",
    "    # Rank recommended articles by total interactions\n",
    "    if len(recs) > m:\n",
    "        ranked_recs = get_ranked_article_unique_counts(recs)\n",
    "        recs = [str(article_id) for article_id, _ in ranked_recs[:m]]\n",
    "    else:\n",
    "        recs = [str(rec) for rec in recs]\n",
    "\n",
    "    rec_names = get_article_names(recs)\n",
    "        \n",
    "    return recs, rec_names # return your recommendations for this user_id"
   ]
  },
  {
   "cell_type": "code",
   "execution_count": 32,
   "metadata": {
    "execution": {
     "iopub.execute_input": "2025-08-29T20:11:01.734047Z",
     "iopub.status.busy": "2025-08-29T20:11:01.733523Z",
     "iopub.status.idle": "2025-08-29T20:11:02.059584Z",
     "shell.execute_reply": "2025-08-29T20:11:02.059082Z"
    }
   },
   "outputs": [
    {
     "name": "stdout",
     "output_type": "stream",
     "text": [
      "The top 10 recommendations for user 20 are the following article ids:\n",
      "['1162', '1165', '1185', '1293', '254', '40', '1271', '1328', '1402', '1410']\n",
      "\n",
      "The top 10 recommendations for user 20 are the following article names:\n",
      "[]\n"
     ]
    }
   ],
   "source": [
    "# Quick spot check - don't change this code - just use it to test your functions\n",
    "rec_ids, rec_names = user_user_recs_part2(20, 10)\n",
    "print(\"The top 10 recommendations for user 20 are the following article ids:\")\n",
    "print(rec_ids)\n",
    "print()\n",
    "print(\"The top 10 recommendations for user 20 are the following article names:\")\n",
    "print(rec_names)"
   ]
  },
  {
   "cell_type": "markdown",
   "metadata": {},
   "source": [
    "`5.` Use your functions from above to correctly fill in the solutions to the dictionary below.  Then test your dictionary against the solution.  Provide the code you need to answer each following the comments below."
   ]
  },
  {
   "cell_type": "code",
   "execution_count": 33,
   "metadata": {
    "execution": {
     "iopub.execute_input": "2025-08-29T20:11:02.061508Z",
     "iopub.status.busy": "2025-08-29T20:11:02.061355Z",
     "iopub.status.idle": "2025-08-29T20:11:02.839127Z",
     "shell.execute_reply": "2025-08-29T20:11:02.838750Z"
    }
   },
   "outputs": [
    {
     "name": "stdout",
     "output_type": "stream",
     "text": [
      "   neighbor_id  similarity  num_interactions\n",
      "0         3933    0.986013                35\n",
      "1           46    0.342580                40\n",
      "2         4201    0.342580                40\n",
      "3          253    0.333333                 4\n",
      "   neighbor_id  similarity  num_interactions\n",
      "0         5083    0.730297                 5\n",
      "1         1552    0.577350                 2\n",
      "2         1890    0.577350                 2\n",
      "3         1372    0.471405                 3\n",
      "4         2941    0.433013                 8\n",
      "5         3586    0.408248                 4\n",
      "6          331    0.408248                 1\n",
      "7          348    0.408248                 1\n",
      "8          378    0.408248                 1\n",
      "9          496    0.408248                 1\n",
      "   neighbor_id  similarity  num_interactions\n",
      "0         3870    0.986667                75\n",
      "1          203    0.388909                96\n",
      "2         4459    0.388909                96\n",
      "3         3782    0.387585               135\n",
      "4           40    0.384308                52\n",
      "5         4932    0.384308                52\n",
      "6           23    0.377647               135\n",
      "7          242    0.375823                59\n",
      "8         3910    0.372678                60\n",
      "9          383    0.367423                32\n"
     ]
    }
   ],
   "source": [
    "print(get_top_sorted_users(1, user_item=user_item).head(n=4))\n",
    "print(get_top_sorted_users(2, user_item=user_item).head(n=10))\n",
    "print(get_top_sorted_users(131, user_item=user_item).head(n=10))"
   ]
  },
  {
   "cell_type": "code",
   "execution_count": 34,
   "metadata": {
    "execution": {
     "iopub.execute_input": "2025-08-29T20:11:02.841340Z",
     "iopub.status.busy": "2025-08-29T20:11:02.840738Z",
     "iopub.status.idle": "2025-08-29T20:11:03.570562Z",
     "shell.execute_reply": "2025-08-29T20:11:03.570076Z"
    }
   },
   "outputs": [],
   "source": [
    "### Tests with a dictionary of results\n",
    "user1_most_sim =  get_top_sorted_users(1,user_item).iloc[0].neighbor_id# Find the user that is most similar to user 1 \n",
    "user2_6th_sim =  get_top_sorted_users(2,user_item).iloc[5].neighbor_id# Find the 6th most similar user to user 2\n",
    "user131_10th_sim =  get_top_sorted_users(131,user_item).iloc[9].neighbor_id# Find the 10th most similar user to user 131"
   ]
  },
  {
   "cell_type": "code",
   "execution_count": 35,
   "metadata": {
    "execution": {
     "iopub.execute_input": "2025-08-29T20:11:03.574020Z",
     "iopub.status.busy": "2025-08-29T20:11:03.573377Z",
     "iopub.status.idle": "2025-08-29T20:11:03.577501Z",
     "shell.execute_reply": "2025-08-29T20:11:03.576897Z"
    }
   },
   "outputs": [
    {
     "name": "stdout",
     "output_type": "stream",
     "text": [
      "3933.0 3586.0 383.0\n"
     ]
    }
   ],
   "source": [
    "print (user1_most_sim, user2_6th_sim, user131_10th_sim)"
   ]
  },
  {
   "cell_type": "code",
   "execution_count": 36,
   "metadata": {
    "execution": {
     "iopub.execute_input": "2025-08-29T20:11:03.580416Z",
     "iopub.status.busy": "2025-08-29T20:11:03.579618Z",
     "iopub.status.idle": "2025-08-29T20:11:03.585426Z",
     "shell.execute_reply": "2025-08-29T20:11:03.584817Z"
    }
   },
   "outputs": [
    {
     "name": "stdout",
     "output_type": "stream",
     "text": [
      "This all looks good!  Nice job!\n"
     ]
    }
   ],
   "source": [
    "## Dictionary Test Here\n",
    "sol_5_dict = {\n",
    "    'The user that is most similar to user 1.': user1_most_sim, \n",
    "    'The user that is the 6th most similar to user 2.': user2_6th_sim,\n",
    "    'The user that is the 10th most similar to user 131.': user131_10th_sim,\n",
    "}\n",
    "\n",
    "t.sol_5_test(sol_5_dict)"
   ]
  },
  {
   "cell_type": "markdown",
   "metadata": {},
   "source": [
    "`6.` If we were given a new user, which of the above functions would you be able to use to make recommendations?  Explain.  Can you think of a better way we might make recommendations?  Use the cell below to explain a better method for new users."
   ]
  },
  {
   "cell_type": "markdown",
   "metadata": {},
   "source": [
    "Answer:\n",
    "\n",
    "Top articles as no user history, only can use user-user history till they start having user-item iteractions"
   ]
  },
  {
   "cell_type": "markdown",
   "metadata": {},
   "source": [
    "`7.` Using the existing functions, provide the top 10 recommended articles for the a new user below.  Test assertion passes well and assures that we are all on the same page with how we might make a recommendation."
   ]
  },
  {
   "cell_type": "code",
   "execution_count": 37,
   "metadata": {
    "execution": {
     "iopub.execute_input": "2025-08-29T20:11:03.587167Z",
     "iopub.status.busy": "2025-08-29T20:11:03.586994Z",
     "iopub.status.idle": "2025-08-29T20:11:03.590405Z",
     "shell.execute_reply": "2025-08-29T20:11:03.590082Z"
    }
   },
   "outputs": [],
   "source": [
    "# What would your recommendations be for this new user 0?  As a new user, they have no observed articles.\n",
    "# Provide a list of the top 10 article ids you would give to \n",
    "new_user_recs = get_top_article_ids(10, df) # Your recommendations here\n",
    "\n",
    "\n"
   ]
  },
  {
   "cell_type": "code",
   "execution_count": 38,
   "metadata": {
    "execution": {
     "iopub.execute_input": "2025-08-29T20:11:03.592262Z",
     "iopub.status.busy": "2025-08-29T20:11:03.591652Z",
     "iopub.status.idle": "2025-08-29T20:11:03.595475Z",
     "shell.execute_reply": "2025-08-29T20:11:03.595145Z"
    }
   },
   "outputs": [
    {
     "name": "stdout",
     "output_type": "stream",
     "text": [
      "That's right!  Nice job!\n"
     ]
    }
   ],
   "source": [
    "assert set(new_user_recs) == {1314, 1429, 1293, 1427, 1162, 1364, 1304, 1170, 1431, 1330}, \"Oops!  It makes sense that in this case we would want to recommend the most popular articles, because we don't know anything about these users.\"\n",
    "\n",
    "print(\"That's right!  Nice job!\")"
   ]
  },
  {
   "cell_type": "markdown",
   "metadata": {},
   "source": [
    "## <a class=\"anchor\" id=\"Content-Recs\">Part IV: Content Based Recommendations</a>\n",
    "\n",
    "Another method we might use to make recommendations is to recommend similar articles that are possibly related. One way we can find article relationships is by clustering text about those articles.  Let's consider content to be the article **title**, as it is the only text we have available. One point to highlight, there isn't one way to create a content based recommendation, especially considering that text information can be processed in many ways.  \n",
    "\n",
    "`1.` Function bodies below are used to create a content based recommender function `make_content_recs`. I have used TF-IDF to create a matrix based off article titles, and use this matrix to create clusters of related articles. This function can be used to make recommendations of new articles."
   ]
  },
  {
   "cell_type": "code",
   "execution_count": 39,
   "metadata": {
    "execution": {
     "iopub.execute_input": "2025-08-29T20:11:03.597494Z",
     "iopub.status.busy": "2025-08-29T20:11:03.596957Z",
     "iopub.status.idle": "2025-08-29T20:11:03.603584Z",
     "shell.execute_reply": "2025-08-29T20:11:03.603037Z"
    }
   },
   "outputs": [
    {
     "data": {
      "text/html": [
       "<div>\n",
       "<style scoped>\n",
       "    .dataframe tbody tr th:only-of-type {\n",
       "        vertical-align: middle;\n",
       "    }\n",
       "\n",
       "    .dataframe tbody tr th {\n",
       "        vertical-align: top;\n",
       "    }\n",
       "\n",
       "    .dataframe thead th {\n",
       "        text-align: right;\n",
       "    }\n",
       "</style>\n",
       "<table border=\"1\" class=\"dataframe\">\n",
       "  <thead>\n",
       "    <tr style=\"text-align: right;\">\n",
       "      <th></th>\n",
       "      <th>Unnamed: 0</th>\n",
       "      <th>article_id</th>\n",
       "      <th>title</th>\n",
       "      <th>email</th>\n",
       "      <th>user_id</th>\n",
       "    </tr>\n",
       "  </thead>\n",
       "  <tbody>\n",
       "    <tr>\n",
       "      <th>0</th>\n",
       "      <td>0</td>\n",
       "      <td>1430</td>\n",
       "      <td>using pixiedust for fast, flexible, and easier...</td>\n",
       "      <td>ef5f11f77ba020cd36e1105a00ab868bbdbf7fe7</td>\n",
       "      <td>1</td>\n",
       "    </tr>\n",
       "    <tr>\n",
       "      <th>1</th>\n",
       "      <td>1</td>\n",
       "      <td>1314</td>\n",
       "      <td>healthcare python streaming application demo</td>\n",
       "      <td>083cbdfa93c8444beaa4c5f5e0f5f9198e4f9e0b</td>\n",
       "      <td>2</td>\n",
       "    </tr>\n",
       "    <tr>\n",
       "      <th>2</th>\n",
       "      <td>2</td>\n",
       "      <td>1429</td>\n",
       "      <td>use deep learning for image classification</td>\n",
       "      <td>b96a4f2e92d8572034b1e9b28f9ac673765cd074</td>\n",
       "      <td>3</td>\n",
       "    </tr>\n",
       "    <tr>\n",
       "      <th>3</th>\n",
       "      <td>3</td>\n",
       "      <td>1338</td>\n",
       "      <td>ml optimization using cognitive assistant</td>\n",
       "      <td>06485706b34a5c9bf2a0ecdac41daf7e7654ceb7</td>\n",
       "      <td>4</td>\n",
       "    </tr>\n",
       "    <tr>\n",
       "      <th>4</th>\n",
       "      <td>4</td>\n",
       "      <td>1276</td>\n",
       "      <td>deploy your python model as a restful api</td>\n",
       "      <td>f01220c46fc92c6e6b161b1849de11faacd7ccb2</td>\n",
       "      <td>5</td>\n",
       "    </tr>\n",
       "  </tbody>\n",
       "</table>\n",
       "</div>"
      ],
      "text/plain": [
       "   Unnamed: 0  article_id                                              title  \\\n",
       "0           0        1430  using pixiedust for fast, flexible, and easier...   \n",
       "1           1        1314       healthcare python streaming application demo   \n",
       "2           2        1429         use deep learning for image classification   \n",
       "3           3        1338          ml optimization using cognitive assistant   \n",
       "4           4        1276          deploy your python model as a restful api   \n",
       "\n",
       "                                      email  user_id  \n",
       "0  ef5f11f77ba020cd36e1105a00ab868bbdbf7fe7        1  \n",
       "1  083cbdfa93c8444beaa4c5f5e0f5f9198e4f9e0b        2  \n",
       "2  b96a4f2e92d8572034b1e9b28f9ac673765cd074        3  \n",
       "3  06485706b34a5c9bf2a0ecdac41daf7e7654ceb7        4  \n",
       "4  f01220c46fc92c6e6b161b1849de11faacd7ccb2        5  "
      ]
     },
     "execution_count": 39,
     "metadata": {},
     "output_type": "execute_result"
    }
   ],
   "source": [
    "df.head()"
   ]
  },
  {
   "cell_type": "code",
   "execution_count": 40,
   "metadata": {
    "execution": {
     "iopub.execute_input": "2025-08-29T20:11:03.606350Z",
     "iopub.status.busy": "2025-08-29T20:11:03.605569Z",
     "iopub.status.idle": "2025-08-29T20:11:03.719628Z",
     "shell.execute_reply": "2025-08-29T20:11:03.719148Z"
    }
   },
   "outputs": [],
   "source": [
    "from sklearn.cluster import KMeans\n",
    "from sklearn.feature_extraction.text import TfidfVectorizer\n",
    "from sklearn.pipeline import make_pipeline\n",
    "from sklearn.preprocessing import Normalizer\n",
    "from sklearn.decomposition import TruncatedSVD"
   ]
  },
  {
   "cell_type": "code",
   "execution_count": 41,
   "metadata": {
    "execution": {
     "iopub.execute_input": "2025-08-29T20:11:03.721352Z",
     "iopub.status.busy": "2025-08-29T20:11:03.721203Z",
     "iopub.status.idle": "2025-08-29T20:11:03.725307Z",
     "shell.execute_reply": "2025-08-29T20:11:03.724892Z"
    }
   },
   "outputs": [
    {
     "data": {
      "text/plain": [
       "(45279, 5)"
      ]
     },
     "execution_count": 41,
     "metadata": {},
     "output_type": "execute_result"
    }
   ],
   "source": [
    "# unique articles\n",
    "df_unique_articles = df[df.article_id.duplicated()]\n",
    "df_unique_articles.shape"
   ]
  },
  {
   "cell_type": "code",
   "execution_count": 42,
   "metadata": {
    "execution": {
     "iopub.execute_input": "2025-08-29T20:11:03.726723Z",
     "iopub.status.busy": "2025-08-29T20:11:03.726605Z",
     "iopub.status.idle": "2025-08-29T20:11:04.403670Z",
     "shell.execute_reply": "2025-08-29T20:11:04.403237Z"
    }
   },
   "outputs": [
    {
     "name": "stdout",
     "output_type": "stream",
     "text": [
      "Running TF-IDF\n",
      "<class 'scipy.sparse._csr.csr_matrix'>\n",
      "n_samples: 45279, n_features: 200\n",
      "Explained variance of the SVD step: 71.7%\n"
     ]
    }
   ],
   "source": [
    "# Create a vectorizer using TfidfVectorizer and fit it to the article titles\n",
    "max_features = 200\n",
    "max_df = 0.75\n",
    "min_df = 5\n",
    "\n",
    "vectorizer = TfidfVectorizer(\n",
    "    max_df=max_df,\n",
    "    min_df=min_df,\n",
    "    stop_words=\"english\",\n",
    "    max_features=max_features,\n",
    ")\n",
    "print(\"Running TF-IDF\")\n",
    "X_tfidf =  vectorizer.fit_transform(df_unique_articles['title'],)# Fit the vectorizer to the article titles\n",
    "print(type(X_tfidf))\n",
    "print(f\"n_samples: {X_tfidf.shape[0]}, n_features: {X_tfidf.shape[1]}\")\n",
    "\n",
    "lsa = make_pipeline(TruncatedSVD(n_components=50), Normalizer(copy=False))\n",
    "X_lsa = lsa.fit_transform(X_tfidf)# Fit the LSA model to the vectorized article titles\n",
    "explained_variance = lsa[0].explained_variance_ratio_.sum()\n",
    "\n",
    "print(f\"Explained variance of the SVD step: {explained_variance * 100:.1f}%\")"
   ]
  },
  {
   "cell_type": "code",
   "execution_count": 58,
   "metadata": {
    "execution": {
     "iopub.execute_input": "2025-08-29T20:11:04.409479Z",
     "iopub.status.busy": "2025-08-29T20:11:04.409317Z",
     "iopub.status.idle": "2025-08-29T20:11:36.049613Z",
     "shell.execute_reply": "2025-08-29T20:11:36.048542Z"
    }
   },
   "outputs": [
    {
     "data": {
      "image/png": "[encoded data removed]",
      "text/plain": [
       "<Figure size 640x480 with 1 Axes>"
      ]
     },
     "metadata": {},
     "output_type": "display_data"
    }
   ],
   "source": [
    "# Let's map the inertia for different number of clusters to find the optimal number of clusters\n",
    "# We'll plot it to see the elbow\n",
    "inertia = []\n",
    "clusters = 300\n",
    "step = 25\n",
    "max_iter = 50\n",
    "n_init = 5\n",
    "random_state = 42\n",
    "for k in range(1, clusters, step):\n",
    "    kmeans = KMeans(\n",
    "        n_clusters=k,\n",
    "        max_iter=max_iter,\n",
    "        n_init=n_init,\n",
    "        random_state=random_state,\n",
    "    ).fit(X_lsa)\n",
    "    # inertia is the sum of squared distances to the closest cluster center\n",
    "    inertia.append(kmeans.inertia_)\n",
    "plt.plot(range(1, clusters, step), inertia)\n",
    "plt.xlabel('Number of clusters');"
   ]
  },
  {
   "cell_type": "markdown",
   "metadata": {},
   "source": [
    "There appears to be an elbow about 50, so we'll use 50 clusters."
   ]
  },
  {
   "cell_type": "code",
   "execution_count": 44,
   "metadata": {
    "execution": {
     "iopub.execute_input": "2025-08-29T20:11:36.052736Z",
     "iopub.status.busy": "2025-08-29T20:11:36.052507Z",
     "iopub.status.idle": "2025-08-29T20:11:37.775536Z",
     "shell.execute_reply": "2025-08-29T20:11:37.774333Z"
    }
   },
   "outputs": [],
   "source": [
    "n_clusters = 50 # Number of clusters\n",
    "kmeans = KMeans(\n",
    "    n_clusters=n_clusters,\n",
    "    max_iter=max_iter,\n",
    "    n_init=n_init,\n",
    "    random_state=random_state\n",
    ").fit(X_lsa)"
   ]
  },
  {
   "cell_type": "code",
   "execution_count": 45,
   "metadata": {
    "execution": {
     "iopub.execute_input": "2025-08-29T20:11:37.778423Z",
     "iopub.status.busy": "2025-08-29T20:11:37.778191Z",
     "iopub.status.idle": "2025-08-29T20:11:37.795598Z",
     "shell.execute_reply": "2025-08-29T20:11:37.794466Z"
    }
   },
   "outputs": [],
   "source": [
    "# create a new column `title_cluster` and assign it the kmeans cluster labels\n",
    "# First we need to map the labels to df_unique_articles article ids and then apply those to df\n",
    "# Map article_id to cluster label using df_unique_articles and kmeans.labels_\n",
    "article_cluster_map = dict(zip(df_unique_articles['article_id'], kmeans.labels_))\n",
    "# Assign the cluster label to each row in df based on article_id\n",
    "df['title_cluster'] = df['article_id'].map(article_cluster_map)"
   ]
  },
  {
   "cell_type": "code",
   "execution_count": 46,
   "metadata": {
    "execution": {
     "iopub.execute_input": "2025-08-29T20:11:37.797769Z",
     "iopub.status.busy": "2025-08-29T20:11:37.797527Z",
     "iopub.status.idle": "2025-08-29T20:11:37.802539Z",
     "shell.execute_reply": "2025-08-29T20:11:37.801864Z"
    }
   },
   "outputs": [
    {
     "data": {
      "text/plain": [
       "array([[   0, 1406],\n",
       "       [   1, 1190],\n",
       "       [   2, 1712],\n",
       "       [   3,  565],\n",
       "       [   4, 2259],\n",
       "       [   5, 1294],\n",
       "       [   6,  815],\n",
       "       [   7, 1166],\n",
       "       [   8,  667],\n",
       "       [   9, 3605],\n",
       "       [  10, 1165],\n",
       "       [  11, 1581],\n",
       "       [  12, 1340],\n",
       "       [  13,  787],\n",
       "       [  14, 1474],\n",
       "       [  15,  803],\n",
       "       [  16,  995],\n",
       "       [  17,  935],\n",
       "       [  18,  417],\n",
       "       [  19,  936],\n",
       "       [  20,  681],\n",
       "       [  21,  906],\n",
       "       [  22,  441],\n",
       "       [  23,  880],\n",
       "       [  24,  708],\n",
       "       [  25, 1352],\n",
       "       [  26, 1069],\n",
       "       [  27,  647],\n",
       "       [  28,  983],\n",
       "       [  29,  448],\n",
       "       [  30,  963],\n",
       "       [  31,  680],\n",
       "       [  32,  587],\n",
       "       [  33,  543],\n",
       "       [  34,  547],\n",
       "       [  35,  791],\n",
       "       [  36,  571],\n",
       "       [  37,  587],\n",
       "       [  38,  369],\n",
       "       [  39,  483],\n",
       "       [  40,  432],\n",
       "       [  41,  528],\n",
       "       [  42,  844],\n",
       "       [  43,  591],\n",
       "       [  44,  689],\n",
       "       [  45,  472],\n",
       "       [  46,  384],\n",
       "       [  47,  378],\n",
       "       [  48,  500],\n",
       "       [  49, 1113]])"
      ]
     },
     "execution_count": 46,
     "metadata": {},
     "output_type": "execute_result"
    }
   ],
   "source": [
    "# Let's check the number of articles in each cluster\n",
    "np.array(np.unique(kmeans.labels_, return_counts=True)).T"
   ]
  },
  {
   "cell_type": "code",
   "execution_count": 47,
   "metadata": {
    "execution": {
     "iopub.execute_input": "2025-08-29T20:11:37.804358Z",
     "iopub.status.busy": "2025-08-29T20:11:37.804150Z",
     "iopub.status.idle": "2025-08-29T20:11:37.808065Z",
     "shell.execute_reply": "2025-08-29T20:11:37.807398Z"
    }
   },
   "outputs": [],
   "source": [
    "def get_similar_articles(article_id, df=df):\n",
    "    \"\"\"\n",
    "    INPUT:\n",
    "    article_id - (int) an article id \n",
    "    df - (pandas dataframe) df as defined at the top of the notebook \n",
    "    \n",
    "    OUTPUT:\n",
    "    article_ids - (list) a list of article ids that are in the same title cluster\n",
    "    \n",
    "    Description:\n",
    "    Returns a list of the article ids that are in the same title cluster\n",
    "    \"\"\"\n",
    "    # Your code here\n",
    "    # Get the cluster for the given article_id\n",
    "    title_cluster = df.loc[df['article_id'] == article_id, 'title_cluster'].values[0]\n",
    "    # Get all article_ids in the same cluster\n",
    "    articles_in_cluster = df[df['title_cluster'] == title_cluster]['article_id'].unique().tolist()\n",
    "    # Remove the input article_id from the list\n",
    "    articles_in_cluster = [aid for aid in articles_in_cluster if aid != article_id]\n",
    "    \n",
    "    return articles_in_cluster"
   ]
  },
  {
   "cell_type": "code",
   "execution_count": 49,
   "metadata": {
    "execution": {
     "iopub.execute_input": "2025-08-29T20:11:37.810101Z",
     "iopub.status.busy": "2025-08-29T20:11:37.809875Z",
     "iopub.status.idle": "2025-08-29T20:11:37.818720Z",
     "shell.execute_reply": "2025-08-29T20:11:37.817980Z"
    }
   },
   "outputs": [],
   "source": [
    "def make_content_recs(article_id, n, df=df):\n",
    "    \"\"\"\n",
    "    INPUT:\n",
    "    article_id - (int) an article id\n",
    "    n - (int) the number of recommendations you want similar to the article id\n",
    "    df - (pandas dataframe) df as defined at the top of the notebook\n",
    "    \n",
    "    OUTPUT:\n",
    "    n_ranked_similar_articles - (list) a list of article ids that are in the same title cluster ranked\n",
    "                                by popularity\n",
    "    n_ranked_article_names - (list) a list of article names associated with the list of article ids\n",
    "    \n",
    "    Description:\n",
    "    Returns a list of the n most ranked similar articles to a given article_id based on the title\n",
    "    cluster in df. Rank similar articles using the function get_ranked_article_unique_counts.\n",
    "    \"\"\"\n",
    "    # Your code here \n",
    "    # Get similar articles in the same cluster (excluding the input article)\n",
    "    similar_article_ids = get_similar_articles(article_id, df)\n",
    "\n",
    "    # Rank similar articles by popularity (number of unique users)\n",
    "    ranked_similar_articles = get_ranked_article_unique_counts(similar_article_ids)\n",
    "\n",
    "    # Take the top n article ids\n",
    "    n_ranked_similar_articles = [article_id for article_id, _ in ranked_similar_articles[:n]]\n",
    "\n",
    "    # Get the article names for these ids\n",
    "    n_ranked_article_names = get_article_names(n_ranked_similar_articles, df)\n",
    "    return n_ranked_similar_articles, n_ranked_article_names\n",
    "        "
   ]
  },
  {
   "cell_type": "code",
   "execution_count": 50,
   "metadata": {
    "execution": {
     "iopub.execute_input": "2025-08-29T20:11:37.820785Z",
     "iopub.status.busy": "2025-08-29T20:11:37.820587Z",
     "iopub.status.idle": "2025-08-29T20:11:37.835114Z",
     "shell.execute_reply": "2025-08-29T20:11:37.834443Z"
    }
   },
   "outputs": [
    {
     "name": "stdout",
     "output_type": "stream",
     "text": [
      "[1025, 237, 593, 173, 349, 101, 821, 975, 766, 508]\n",
      "['upload files to ibm data science experience using the command line', '10 must attend data science, ml and ai conferences in 2018', 'ibm data science experience white paper - sparkr transforming r into a tool for big data analytics', 'deep learning with data science experience', 'data science in the cloud', 'making data science a team sport', 'how to choose a project to practice data science', 'data tidying in data science experience', 'the data science process', 'using rstudio in ibm data science experience']\n"
     ]
    }
   ],
   "source": [
    "# Test out your content recommendations given artice_id 25\n",
    "rec_article_ids, rec_article_titles = make_content_recs(25, 10)\n",
    "print(rec_article_ids)\n",
    "print(rec_article_titles)"
   ]
  },
  {
   "cell_type": "code",
   "execution_count": 52,
   "metadata": {
    "execution": {
     "iopub.execute_input": "2025-08-29T20:11:37.837125Z",
     "iopub.status.busy": "2025-08-29T20:11:37.836916Z",
     "iopub.status.idle": "2025-08-29T20:11:37.840857Z",
     "shell.execute_reply": "2025-08-29T20:11:37.840132Z"
    }
   },
   "outputs": [
    {
     "name": "stdout",
     "output_type": "stream",
     "text": [
      "If this is all you see, you passed the test!  Nice job!\n"
     ]
    }
   ],
   "source": [
    "assert len({1025, 593, 349, 821, 464, 29, 1042, 693, 524, 352}.intersection(set(rec_article_ids))) > 0, \"Oops! Your the make_content_recs function doesn't work quite how we expect.\"\n",
    "print(\"If this is all you see, you passed the test!  Nice job!\")"
   ]
  },
  {
   "cell_type": "markdown",
   "metadata": {},
   "source": [
    "`2.` Now that you have put together your content-based recommendation system, use the cell below to write a summary explaining how your content based recommender works.  Do you see any possible improvements that could be made to your function? What other text data would be useful to help make better recommendations besides the article title?"
   ]
  },
  {
   "cell_type": "markdown",
   "metadata": {},
   "source": [
    "**Write an explanation of your content based recommendation system here.**\n",
    "Content based recommendation system make use of NLP to get latent features from the text data (which is `title` here), these latent features help getting recommendations based on content similarity what a user's interactions looks like. \n",
    "K-MEAN clustering is used with data having latent features here. "
   ]
  },
  {
   "cell_type": "markdown",
   "metadata": {},
   "source": [
    "## <a class=\"anchor\" id=\"Matrix-Fact\">Part V: Matrix Factorization</a>\n",
    "\n",
    "In this part of the notebook, you will build use matrix factorization to make article recommendations to users.\n",
    "\n",
    "`1.` We will use a already created **user_item** matrix in **question 1** of **Part III** above.  This first question here will just require that you run the cells to get things set up for the rest of **Part V** of the notebook. "
   ]
  },
  {
   "cell_type": "code",
   "execution_count": 53,
   "metadata": {
    "execution": {
     "iopub.execute_input": "2025-08-29T20:11:37.842731Z",
     "iopub.status.busy": "2025-08-29T20:11:37.842545Z",
     "iopub.status.idle": "2025-08-29T20:11:37.853264Z",
     "shell.execute_reply": "2025-08-29T20:11:37.852468Z"
    }
   },
   "outputs": [
    {
     "data": {
      "text/html": [
       "<div>\n",
       "<style scoped>\n",
       "    .dataframe tbody tr th:only-of-type {\n",
       "        vertical-align: middle;\n",
       "    }\n",
       "\n",
       "    .dataframe tbody tr th {\n",
       "        vertical-align: top;\n",
       "    }\n",
       "\n",
       "    .dataframe thead th {\n",
       "        text-align: right;\n",
       "    }\n",
       "</style>\n",
       "<table border=\"1\" class=\"dataframe\">\n",
       "  <thead>\n",
       "    <tr style=\"text-align: right;\">\n",
       "      <th>article_id</th>\n",
       "      <th>0</th>\n",
       "      <th>2</th>\n",
       "      <th>4</th>\n",
       "      <th>8</th>\n",
       "      <th>9</th>\n",
       "      <th>12</th>\n",
       "      <th>14</th>\n",
       "      <th>15</th>\n",
       "      <th>16</th>\n",
       "      <th>18</th>\n",
       "      <th>...</th>\n",
       "      <th>1434</th>\n",
       "      <th>1435</th>\n",
       "      <th>1436</th>\n",
       "      <th>1437</th>\n",
       "      <th>1439</th>\n",
       "      <th>1440</th>\n",
       "      <th>1441</th>\n",
       "      <th>1442</th>\n",
       "      <th>1443</th>\n",
       "      <th>1444</th>\n",
       "    </tr>\n",
       "    <tr>\n",
       "      <th>user_id</th>\n",
       "      <th></th>\n",
       "      <th></th>\n",
       "      <th></th>\n",
       "      <th></th>\n",
       "      <th></th>\n",
       "      <th></th>\n",
       "      <th></th>\n",
       "      <th></th>\n",
       "      <th></th>\n",
       "      <th></th>\n",
       "      <th></th>\n",
       "      <th></th>\n",
       "      <th></th>\n",
       "      <th></th>\n",
       "      <th></th>\n",
       "      <th></th>\n",
       "      <th></th>\n",
       "      <th></th>\n",
       "      <th></th>\n",
       "      <th></th>\n",
       "      <th></th>\n",
       "    </tr>\n",
       "  </thead>\n",
       "  <tbody>\n",
       "    <tr>\n",
       "      <th>1</th>\n",
       "      <td>0</td>\n",
       "      <td>0</td>\n",
       "      <td>0</td>\n",
       "      <td>0</td>\n",
       "      <td>0</td>\n",
       "      <td>0</td>\n",
       "      <td>0</td>\n",
       "      <td>0</td>\n",
       "      <td>0</td>\n",
       "      <td>0</td>\n",
       "      <td>...</td>\n",
       "      <td>0</td>\n",
       "      <td>0</td>\n",
       "      <td>1</td>\n",
       "      <td>0</td>\n",
       "      <td>1</td>\n",
       "      <td>0</td>\n",
       "      <td>0</td>\n",
       "      <td>0</td>\n",
       "      <td>0</td>\n",
       "      <td>0</td>\n",
       "    </tr>\n",
       "    <tr>\n",
       "      <th>2</th>\n",
       "      <td>0</td>\n",
       "      <td>0</td>\n",
       "      <td>0</td>\n",
       "      <td>0</td>\n",
       "      <td>0</td>\n",
       "      <td>0</td>\n",
       "      <td>0</td>\n",
       "      <td>0</td>\n",
       "      <td>0</td>\n",
       "      <td>0</td>\n",
       "      <td>...</td>\n",
       "      <td>0</td>\n",
       "      <td>0</td>\n",
       "      <td>0</td>\n",
       "      <td>0</td>\n",
       "      <td>0</td>\n",
       "      <td>0</td>\n",
       "      <td>0</td>\n",
       "      <td>0</td>\n",
       "      <td>0</td>\n",
       "      <td>0</td>\n",
       "    </tr>\n",
       "    <tr>\n",
       "      <th>3</th>\n",
       "      <td>0</td>\n",
       "      <td>0</td>\n",
       "      <td>0</td>\n",
       "      <td>0</td>\n",
       "      <td>0</td>\n",
       "      <td>1</td>\n",
       "      <td>0</td>\n",
       "      <td>0</td>\n",
       "      <td>0</td>\n",
       "      <td>0</td>\n",
       "      <td>...</td>\n",
       "      <td>0</td>\n",
       "      <td>0</td>\n",
       "      <td>1</td>\n",
       "      <td>0</td>\n",
       "      <td>0</td>\n",
       "      <td>0</td>\n",
       "      <td>0</td>\n",
       "      <td>0</td>\n",
       "      <td>0</td>\n",
       "      <td>0</td>\n",
       "    </tr>\n",
       "    <tr>\n",
       "      <th>4</th>\n",
       "      <td>0</td>\n",
       "      <td>0</td>\n",
       "      <td>0</td>\n",
       "      <td>0</td>\n",
       "      <td>0</td>\n",
       "      <td>0</td>\n",
       "      <td>0</td>\n",
       "      <td>0</td>\n",
       "      <td>0</td>\n",
       "      <td>0</td>\n",
       "      <td>...</td>\n",
       "      <td>0</td>\n",
       "      <td>0</td>\n",
       "      <td>0</td>\n",
       "      <td>0</td>\n",
       "      <td>0</td>\n",
       "      <td>0</td>\n",
       "      <td>0</td>\n",
       "      <td>0</td>\n",
       "      <td>0</td>\n",
       "      <td>0</td>\n",
       "    </tr>\n",
       "    <tr>\n",
       "      <th>5</th>\n",
       "      <td>0</td>\n",
       "      <td>0</td>\n",
       "      <td>0</td>\n",
       "      <td>0</td>\n",
       "      <td>0</td>\n",
       "      <td>0</td>\n",
       "      <td>0</td>\n",
       "      <td>0</td>\n",
       "      <td>0</td>\n",
       "      <td>0</td>\n",
       "      <td>...</td>\n",
       "      <td>0</td>\n",
       "      <td>0</td>\n",
       "      <td>0</td>\n",
       "      <td>0</td>\n",
       "      <td>0</td>\n",
       "      <td>0</td>\n",
       "      <td>0</td>\n",
       "      <td>0</td>\n",
       "      <td>0</td>\n",
       "      <td>0</td>\n",
       "    </tr>\n",
       "  </tbody>\n",
       "</table>\n",
       "<p>5 rows × 714 columns</p>\n",
       "</div>"
      ],
      "text/plain": [
       "article_id  0     2     4     8     9     12    14    15    16    18    ...  \\\n",
       "user_id                                                                 ...   \n",
       "1              0     0     0     0     0     0     0     0     0     0  ...   \n",
       "2              0     0     0     0     0     0     0     0     0     0  ...   \n",
       "3              0     0     0     0     0     1     0     0     0     0  ...   \n",
       "4              0     0     0     0     0     0     0     0     0     0  ...   \n",
       "5              0     0     0     0     0     0     0     0     0     0  ...   \n",
       "\n",
       "article_id  1434  1435  1436  1437  1439  1440  1441  1442  1443  1444  \n",
       "user_id                                                                 \n",
       "1              0     0     1     0     1     0     0     0     0     0  \n",
       "2              0     0     0     0     0     0     0     0     0     0  \n",
       "3              0     0     1     0     0     0     0     0     0     0  \n",
       "4              0     0     0     0     0     0     0     0     0     0  \n",
       "5              0     0     0     0     0     0     0     0     0     0  \n",
       "\n",
       "[5 rows x 714 columns]"
      ]
     },
     "execution_count": 53,
     "metadata": {},
     "output_type": "execute_result"
    }
   ],
   "source": [
    "# quick look at the matrix\n",
    "user_item.head()"
   ]
  },
  {
   "cell_type": "markdown",
   "metadata": {},
   "source": [
    "`2.` In this situation, you can use Singular Value Decomposition from [scikit-learn](https://scikit-learn.org/stable/modules/generated/sklearn.decomposition.TruncatedSVD.html) on the user-item matrix.  Use the cell to perform SVD."
   ]
  },
  {
   "cell_type": "code",
   "execution_count": 54,
   "metadata": {
    "execution": {
     "iopub.execute_input": "2025-08-29T20:11:37.858465Z",
     "iopub.status.busy": "2025-08-29T20:11:37.858267Z",
     "iopub.status.idle": "2025-08-29T20:11:42.419667Z",
     "shell.execute_reply": "2025-08-29T20:11:42.416820Z"
    }
   },
   "outputs": [
    {
     "name": "stdout",
     "output_type": "stream",
     "text": [
      "u (5149, 714)\n",
      "s (714,)\n",
      "vt (714, 714)\n"
     ]
    }
   ],
   "source": [
    "from sklearn.decomposition import TruncatedSVD\n",
    "from sklearn.metrics import precision_score, recall_score, accuracy_score\n",
    "# Using the full number of components which equals the number of columns\n",
    "svd = TruncatedSVD(n_components=len(user_item.columns), n_iter=5, random_state=42)\n",
    "\n",
    "u = svd.fit_transform(user_item)\n",
    "v = svd.components_\n",
    "s = svd.singular_values_ \n",
    "print('u', u.shape)\n",
    "print('s', s.shape)\n",
    "print('vt', v.shape)"
   ]
  },
  {
   "cell_type": "markdown",
   "metadata": {},
   "source": [
    "`3.` Now for the tricky part, how do we choose the number of latent features to use?  Running the below cell, you can see that as the number of latent features increases, we obtain better metrics when making predictions for the 1 and 0 values in the user-item matrix.  Run the cell below to get an idea of how our metrics improve as we increase the number of latent features."
   ]
  },
  {
   "cell_type": "code",
   "execution_count": 73,
   "metadata": {
    "execution": {
     "iopub.execute_input": "2025-08-29T20:11:42.423137Z",
     "iopub.status.busy": "2025-08-29T20:11:42.422858Z",
     "iopub.status.idle": "2025-08-29T20:11:57.756929Z",
     "shell.execute_reply": "2025-08-29T20:11:57.756382Z"
    }
   },
   "outputs": [
    {
     "data": {
      "image/png": "[encoded data removed]",
      "text/plain": [
       "<Figure size 640x480 with 1 Axes>"
      ]
     },
     "metadata": {},
     "output_type": "display_data"
    }
   ],
   "source": [
    "num_latent_feats = np.arange(10, 700+10, 20)\n",
    "metric_scores = []\n",
    "\n",
    "for k in num_latent_feats:\n",
    "    # restructure with k latent features\n",
    "    u_new, vt_new = u[:, :k], v[:k, :]\n",
    "    \n",
    "    # take dot product\n",
    "    user_item_est = abs(np.around(np.dot(u_new, vt_new))).astype(int)\n",
    "    # make sure the values are between 0 and 1\n",
    "    user_item_est = np.clip(user_item_est, 0, 1)\n",
    "    \n",
    "    # total errors and keep track of them\n",
    "    acc = accuracy_score(user_item.values.flatten(), user_item_est.flatten())\n",
    "    precision = precision_score(user_item.values.flatten(), user_item_est.flatten())\n",
    "    recall = recall_score(user_item.values.flatten(), user_item_est.flatten())\n",
    "    metric_scores.append([acc, precision, recall])\n",
    "    \n",
    "    \n",
    "plt.plot(num_latent_feats, metric_scores, label=['Accuracy', 'Precision', 'Recall'], marker='o', markersize=5, linestyle='--', linewidth=2, alpha=0.7)\n",
    "plt.legend()\n",
    "plt.grid(True, linestyle='--', alpha=0.5)\n",
    "plt.xlabel('Number of Latent Features')\n",
    "plt.title('Metrics vs. Number of Latent Features');"
   ]
  },
  {
   "cell_type": "markdown",
   "metadata": {},
   "source": [
    "`4.` From the above, we can't really be sure how many features to use, because simply having a better way to predict the 1's and 0's of the matrix doesn't exactly give us an indication of if we are able to make good recommendations. Given the plot above, what would you pick for the number of latent features and why?"
   ]
  },
  {
   "cell_type": "code",
   "execution_count": null,
   "metadata": {
    "vscode": {
     "languageId": "markdown"
    }
   },
   "outputs": [],
   "source": []
  },
  {
   "cell_type": "markdown",
   "metadata": {},
   "source": [
    "**Provide your response here.**\n",
    "Above graph indicate that the Accuracy and Precision are pretty much flat after around 100 features. So we have only recall that can give some indication of selection number of latent features here. And the Recall graph kind of loosing its growth after reaching 80% or so, that gives an indication that an optimal count of latent features here could be around 200. \n",
    "\n",
    "##### The logic to decide the optimal number of latent features from the Accuracy-Precision-Recall graph is:\n",
    "\n",
    "- **Look for the \"elbow\" point**: As the number of latent features increases, all metrics (accuracy, precision, recall) improve rapidly at first, then the improvement slows down and the curves flatten out. The \"elbow\" or inflection point is where adding more features yields diminishing returns.\n",
    "- **Balance recall and precision**: Choose a feature count where both recall and precision are high and stable. Often, recall increases more slowly than precision, so you may want to pick a value where recall is maximized without sacrificing much precision.\n",
    "- **Avoid overfitting**: Too many features may overfit the training data and not generalize well. The optimal point is usually just before the metrics plateau.\n",
    "\n",
    "**In practice:**  \n",
    "Pick the smallest number of latent features after which the increase in accuracy, precision, or recall becomes minimal (the curves flatten). This gives you a good trade-off between model complexity and performance."
   ]
  },
  {
   "cell_type": "markdown",
   "metadata": {},
   "source": [
    "`5.` Using 200 latent features and the values of U, S, and V transpose we calculated above, create an article id recommendation function that finds similar article ids to the one provide.\n",
    "\n",
    "Create a list of 10 recommendations that are similar to article with id 4.  The function should provide these recommendations by finding articles that have the most similar latent features as the provided article."
   ]
  },
  {
   "cell_type": "code",
   "execution_count": 61,
   "metadata": {
    "execution": {
     "iopub.execute_input": "2025-08-29T20:11:57.758596Z",
     "iopub.status.busy": "2025-08-29T20:11:57.758451Z",
     "iopub.status.idle": "2025-08-29T20:11:57.761957Z",
     "shell.execute_reply": "2025-08-29T20:11:57.761455Z"
    }
   },
   "outputs": [],
   "source": [
    "from sklearn.metrics.pairwise import cosine_similarity\n",
    "\n",
    "def get_svd_similar_article_ids(article_id, vt, user_item=user_item, include_similarity=False):\n",
    "    \"\"\"\n",
    "    INPUT:\n",
    "    article_id - (int) an article id\n",
    "    vt - (numpy array) vt matrix from SVD\n",
    "    user_item - (pandas dataframe) matrix of users by articles: \n",
    "                1's when a user has interacted with an article, 0 otherwise\n",
    "    include_similarity - (bool) whether to include the similarity in the output\n",
    "    \n",
    "    OUTPUT:\n",
    "    article_ids - (list) a list of article ids that are in the same title cluster\n",
    "    \n",
    "    Description:\n",
    "    Returns a list of the article ids similar using SVD factorization\n",
    "    \"\"\"\n",
    "    # Find the index of the article_id\n",
    "    # Find the index of the article_id in the user_item columns\n",
    "    article_idx = list(user_item.columns).index(article_id)\n",
    "    # Compute cosine similarity between articles (columns of vt)\n",
    "    cos_sim = cosine_similarity(vt.T)\n",
    "    # Get similarities for the given article\n",
    "    sim_scores = cos_sim[article_idx]\n",
    "    # Get indices of articles sorted by similarity (descending), exclude itself\n",
    "    sorted_idx = sim_scores.argsort()[::-1]\n",
    "    # Exclude the article itself\n",
    "    sorted_idx = [i for i in sorted_idx if i != article_idx]\n",
    "    # Map indices back to article_ids\n",
    "    most_similar_items = [user_item.columns[i] for i in sorted_idx]\n",
    "    if include_similarity:\n",
    "        return [[user_item.columns[i], sim_scores[i]] for i in sorted_idx]\n",
    "    return most_similar_items"
   ]
  },
  {
   "cell_type": "code",
   "execution_count": 62,
   "metadata": {
    "execution": {
     "iopub.execute_input": "2025-08-29T20:11:57.763353Z",
     "iopub.status.busy": "2025-08-29T20:11:57.763194Z",
     "iopub.status.idle": "2025-08-29T20:11:57.765512Z",
     "shell.execute_reply": "2025-08-29T20:11:57.765022Z"
    }
   },
   "outputs": [],
   "source": [
    "# Create a vt_new matrix with 200 latent features\n",
    "k = 200\n",
    "vt_new = v[:k, :]"
   ]
  },
  {
   "cell_type": "code",
   "execution_count": 63,
   "metadata": {
    "execution": {
     "iopub.execute_input": "2025-08-29T20:11:57.767149Z",
     "iopub.status.busy": "2025-08-29T20:11:57.767009Z",
     "iopub.status.idle": "2025-08-29T20:11:57.770580Z",
     "shell.execute_reply": "2025-08-29T20:11:57.770054Z"
    }
   },
   "outputs": [
    {
     "name": "stdout",
     "output_type": "stream",
     "text": [
      "Current article: analyze ny restaurant data using spark in dsx\n"
     ]
    }
   ],
   "source": [
    "# What is the article name for article_id 4?\n",
    "print(\"Current article:\", get_article_names([4], df=df)[0])"
   ]
  },
  {
   "cell_type": "code",
   "execution_count": 64,
   "metadata": {
    "execution": {
     "iopub.execute_input": "2025-08-29T20:11:57.772163Z",
     "iopub.status.busy": "2025-08-29T20:11:57.772027Z",
     "iopub.status.idle": "2025-08-29T20:11:57.795679Z",
     "shell.execute_reply": "2025-08-29T20:11:57.795110Z"
    }
   },
   "outputs": [
    {
     "data": {
      "text/plain": [
       "[np.int64(1199),\n",
       " np.int64(1068),\n",
       " np.int64(486),\n",
       " np.int64(1202),\n",
       " np.int64(176),\n",
       " np.int64(1120),\n",
       " np.int64(244),\n",
       " np.int64(793),\n",
       " np.int64(58),\n",
       " np.int64(132)]"
      ]
     },
     "execution_count": 64,
     "metadata": {},
     "output_type": "execute_result"
    }
   ],
   "source": [
    "# What are the top 10 most similar articles to article_id 4?\n",
    "rec_articles = get_svd_similar_article_ids(4, vt_new, user_item=user_item)[:10]\n",
    "rec_articles"
   ]
  },
  {
   "cell_type": "code",
   "execution_count": 65,
   "metadata": {
    "execution": {
     "iopub.execute_input": "2025-08-29T20:11:57.798095Z",
     "iopub.status.busy": "2025-08-29T20:11:57.797916Z",
     "iopub.status.idle": "2025-08-29T20:11:57.809443Z",
     "shell.execute_reply": "2025-08-29T20:11:57.808685Z"
    }
   },
   "outputs": [
    {
     "data": {
      "text/plain": [
       "['use spark r to load and analyze data',\n",
       " 'collecting data science cheat sheets',\n",
       " '10 powerful features on watson data platform, no coding necessary',\n",
       " 'notebooks: a power tool for data scientists',\n",
       " 'country statistics: crude oil - proved reserves',\n",
       " 'country statistics: crude oil - exports',\n",
       " 'top analytics tools in 2016',\n",
       " 'advancements in the spark community',\n",
       " 'airbnb data for analytics: paris calendar',\n",
       " 'airbnb data for analytics: athens reviews']"
      ]
     },
     "execution_count": 65,
     "metadata": {},
     "output_type": "execute_result"
    }
   ],
   "source": [
    "# What are the top 10 most similar articles to article_id 4?\n",
    "get_article_names(rec_articles, df=df)"
   ]
  },
  {
   "cell_type": "code",
   "execution_count": 66,
   "metadata": {
    "execution": {
     "iopub.execute_input": "2025-08-29T20:11:57.812306Z",
     "iopub.status.busy": "2025-08-29T20:11:57.812050Z",
     "iopub.status.idle": "2025-08-29T20:11:57.816527Z",
     "shell.execute_reply": "2025-08-29T20:11:57.815165Z"
    }
   },
   "outputs": [
    {
     "name": "stdout",
     "output_type": "stream",
     "text": [
      "That's right!  Great job!\n"
     ]
    }
   ],
   "source": [
    "assert set(rec_articles) == {1199, 1068, 486, 1202, 176, 1120, 244, 793, 58, 132}, \"Oops! Your the get_svd_similar_article_ids function doesn't work quite how we expect.\"\n",
    "print(\"That's right!  Great job!\")"
   ]
  },
  {
   "cell_type": "markdown",
   "metadata": {
    "collapsed": true
   },
   "source": [
    "`6.` Use the cell below to comment on the results you found in the previous question. Given the circumstances of your results, discuss what you might do to determine if the recommendations you make above are an improvement to how users currently find articles, either by Sections 2, 3, or 4? Add any tradeoffs between each of the methods, and how you could leverage each type for different situations including new users with no history, recently new users with little history, and users with a lot of history. "
   ]
  },
  {
   "cell_type": "markdown",
   "metadata": {},
   "source": [
    "**Your response here.**\n",
    "**Section 2** uses simple method of Top popular articles, and can be useful for new user's cases where we do not have any reference for user's preferences \n",
    "\n",
    "**Section 3** uses the user similarity, based on similar articles where other users had also interacted and making prediction based on that similar user's interactions and preferences. This is very good way to know how similar two users preferences could be. This can be useful, even if we user has small number of interactions, user neighbor pairing can bring good results. \n",
    "\n",
    "**Section 4** used content based similarity among user, not only the commonly interacted article base, like in section 2. This gives further refined recommendation to those articles which have similar title of the article (based on text vectorization, SVD etc.) Those article which are seen by the similar users but does not match with text similarity of the user, will not be part of recommendation. This can bring breat improvement in the recommendation system and becomes more contexual for the user. THis method can give betters results for users with lots of history of interacting with articles, as previous method will not filterout the contexual recommendations. \n",
    "\n",
    "\n"
   ]
  },
  {
   "cell_type": "markdown",
   "metadata": {
    "collapsed": true
   },
   "source": [
    "<a id='conclusions'>## Extras</a>\n",
    "\n",
    "\n",
    "## Conclusion\n",
    "\n",
    "> Congratulations!  You have reached the end of the Recommendation Systems project! \n",
    "\n",
    "> **Tip**: Once you are satisfied with your work here, check over your report to make sure that it is satisfies all the areas of the [rubric](https://review.udacity.com/#!/rubrics/2322/view). You should also probably remove all of the \"Tips\" like this one so that the presentation is as polished as possible.\n",
    "\n",
    "\n",
    "## Directions to Submit\n",
    "\n",
    "> Before you submit your project, you need to create a .html or .pdf version of this notebook in the workspace here. To do that, run the code cell below. If it worked correctly, you should get a return code of 0, and you should see the generated .html file in the workspace directory (click on the orange Jupyter icon in the upper left).\n",
    "\n",
    "> Alternatively, you can download this report as .html via the **File** > **Download as** submenu, and then manually upload it into the workspace directory by clicking on the orange Jupyter icon in the upper left, then using the Upload button.\n",
    "\n",
    "> Once you've done this, you can submit your project by clicking on the \"Submit Project\" button in the lower right here. This will create and submit a zip file with this .ipynb doc and the .html or .pdf version you created. Congratulations! "
   ]
  },
  {
   "cell_type": "code",
   "execution_count": 62,
   "metadata": {
    "execution": {
     "iopub.execute_input": "2025-08-29T20:11:57.819552Z",
     "iopub.status.busy": "2025-08-29T20:11:57.819341Z",
     "iopub.status.idle": "2025-08-29T20:11:57.822590Z",
     "shell.execute_reply": "2025-08-29T20:11:57.821606Z"
    }
   },
   "outputs": [],
   "source": [
    "# # Example: Save top 5 recommendations for each user to a CSV\n",
    "# user_recs = []\n",
    "# for user_id in user_item.index:\n",
    "#     recs = user_user_recs_part2(user_id, m=5)[0]\n",
    "#     user_recs.append({'user_id': user_id, 'recommendations': recs})\n",
    "\n",
    "# import pandas as pd\n",
    "# user_recs_df = pd.DataFrame(user_recs)\n",
    "# user_recs_df.to_csv('user_recommendations.csv', index=False)"
   ]
  },
  {
   "cell_type": "code",
   "execution_count": 63,
   "metadata": {
    "collapsed": true,
    "execution": {
     "iopub.execute_input": "2025-08-29T20:11:57.825368Z",
     "iopub.status.busy": "2025-08-29T20:11:57.825111Z",
     "iopub.status.idle": "2025-08-29T20:11:57.829496Z",
     "shell.execute_reply": "2025-08-29T20:11:57.828522Z"
    }
   },
   "outputs": [],
   "source": [
    "from subprocess import call\n",
    "\n",
    "def convert_notebook_to_(notebook,toFormat=\"html\"):\n",
    "    \"\"\"\n",
    "    Converts the Jupyter notebook to an HTML file.\n",
    "    \"\"\"\n",
    "    import os\n",
    "    call(['python3', \"-m\", 'nbconvert', '--to', toFormat, notebook])\n",
    "# convert_notebook_to_('Recommendations_with_IBM.ipynb',toFormat=\"html\")\n",
    "# convert_notebook_to_('Recommendations_with_IBM.ipynb',toFormat=\"pdf\")\n",
    "# !python3 -m nbconvert --to html Recommendations_with_IBM.ipynb"
   ]
  }
 ],
 "metadata": {
  "kernelspec": {
   "display_name": ".env",
   "language": "python",
   "name": "python3"
  },
  "language_info": {
   "codemirror_mode": {
    "name": "ipython",
    "version": 3
   },
   "file_extension": ".py",
   "mimetype": "text/x-python",
   "name": "python",
   "nbconvert_exporter": "python",
   "pygments_lexer": "ipython3",
   "version": "3.12.3"
  }
 },
 "nbformat": 4,
 "nbformat_minor": 2
}
